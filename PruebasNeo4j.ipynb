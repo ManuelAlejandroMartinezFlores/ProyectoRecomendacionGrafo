{
 "cells": [
  {
   "cell_type": "markdown",
   "metadata": {},
   "source": [
    "# Pruebas Neo4j"
   ]
  },
  {
   "cell_type": "code",
   "execution_count": 1,
   "metadata": {},
   "outputs": [],
   "source": [
    "from neo4j import GraphDatabase as GD\n",
    "import pandas as pd\n",
    "import numpy as np"
   ]
  },
  {
   "cell_type": "code",
   "execution_count": 2,
   "metadata": {},
   "outputs": [],
   "source": [
    "uri = 'bolt://localhost:7687'\n",
    "user = 'neo4j'\n",
    "psw = 'password'"
   ]
  },
  {
   "cell_type": "markdown",
   "metadata": {},
   "source": [
    "### Primera prueba"
   ]
  },
  {
   "cell_type": "code",
   "execution_count": 14,
   "metadata": {},
   "outputs": [],
   "source": [
    "d = GD.driver(uri, auth=(user, psw))"
   ]
  },
  {
   "cell_type": "code",
   "execution_count": 15,
   "metadata": {},
   "outputs": [],
   "source": [
    "def get_pod(tx, cat):\n",
    "    pods = []\n",
    "    result = tx.run(\"MATCH (c:Category)<--(p) \"\n",
    "                   \"WHERE c.name = $cat \"\n",
    "                   \"RETURN p.id AS pod\", cat=cat)\n",
    "    for r in result:\n",
    "        pods.append(r['pod'])\n",
    "    return pods"
   ]
  },
  {
   "cell_type": "code",
   "execution_count": 16,
   "metadata": {},
   "outputs": [
    {
     "name": "stdout",
     "output_type": "stream",
     "text": [
      "e89a2cc24f1fa1138a56a532ce68ab4a\n",
      "f5fce0325ac6a4bf5e191d6608b95797\n",
      "f42e0606b820b99354ab58d423598493\n",
      "e8be02e7d7281ba3edb77da6a9fe95cd\n",
      "ebb2a803a79ea0b5abdefb92d1c816f5\n",
      "fc32aac8fe942ed89feae0e164185912\n",
      "c4eafea85540de95544b73777e19c696\n",
      "b9a5920d121ff4e239e6ca3b210e65e7\n",
      "a343c93505bffeaf20564bd2977b4743\n",
      "f1a7cabd6127108563a0e38ae044b88a\n",
      "fa7162cfb3963c4d51b67094a51740d6\n",
      "c684ea6c24f8a6a16c18edd37f2aea41\n",
      "fa3cac03e05c1e9ec792e95e4850d7ce\n"
     ]
    }
   ],
   "source": [
    "with d.session() as sess:\n",
    "    pod = sess.read_transaction(get_pod, \"news\")\n",
    "    for p in pod:\n",
    "        print(p)"
   ]
  },
  {
   "cell_type": "markdown",
   "metadata": {},
   "source": [
    "### Segunda Prueba\n",
    "Generar una clase"
   ]
  },
  {
   "cell_type": "code",
   "execution_count": 61,
   "metadata": {},
   "outputs": [],
   "source": [
    "class App:\n",
    "    def __init__(self, uri, auth):\n",
    "        self.driver = GD.driver(uri, auth = auth)\n",
    "        \n",
    "    def close(self):\n",
    "        self.driver.close()\n",
    "        \n",
    "    def get_cat_pod(self, user_id):\n",
    "        with self.driver.session() as sess:\n",
    "            result = sess.write_transaction(\n",
    "                self._get_cat_pod, user_id)\n",
    "            return result\n",
    "        \n",
    "    @staticmethod\n",
    "    def _get_cat_pod(tx, user_id):\n",
    "        query = (\n",
    "            \"MATCH (u:User)-[r]->(Podcast)-->(Category)<--(p:Podcast) \"\n",
    "            \"WHERE u.id = $user_id \"\n",
    "            \"RETURN r, p \"\n",
    "        )\n",
    "        result = tx.run(query, user_id=user_id)\n",
    "        return pd.DataFrame([{'cum_rating':record['r']['rating'], \n",
    "                              'podcast_id':record['p']['id']}\n",
    "                    for record in result])"
   ]
  },
  {
   "cell_type": "code",
   "execution_count": 62,
   "metadata": {},
   "outputs": [],
   "source": [
    "app = App(uri, (user, psw))"
   ]
  },
  {
   "cell_type": "code",
   "execution_count": 63,
   "metadata": {},
   "outputs": [
    {
     "data": {
      "text/html": [
       "<div>\n",
       "<style scoped>\n",
       "    .dataframe tbody tr th:only-of-type {\n",
       "        vertical-align: middle;\n",
       "    }\n",
       "\n",
       "    .dataframe tbody tr th {\n",
       "        vertical-align: top;\n",
       "    }\n",
       "\n",
       "    .dataframe thead th {\n",
       "        text-align: right;\n",
       "    }\n",
       "</style>\n",
       "<table border=\"1\" class=\"dataframe\">\n",
       "  <thead>\n",
       "    <tr style=\"text-align: right;\">\n",
       "      <th></th>\n",
       "      <th>cum_rating</th>\n",
       "      <th>podcast_id</th>\n",
       "    </tr>\n",
       "  </thead>\n",
       "  <tbody>\n",
       "    <tr>\n",
       "      <th>0</th>\n",
       "      <td>5</td>\n",
       "      <td>bead83f2330788f9e629cce951e1df99</td>\n",
       "    </tr>\n",
       "    <tr>\n",
       "      <th>1</th>\n",
       "      <td>5</td>\n",
       "      <td>cc451ec20dfe8f985c246cc71749917d</td>\n",
       "    </tr>\n",
       "    <tr>\n",
       "      <th>2</th>\n",
       "      <td>5</td>\n",
       "      <td>b16332f51b9746dc5a97c7ce37644fc6</td>\n",
       "    </tr>\n",
       "    <tr>\n",
       "      <th>3</th>\n",
       "      <td>5</td>\n",
       "      <td>c1adb6ca5ca39575420fda03c099b037</td>\n",
       "    </tr>\n",
       "    <tr>\n",
       "      <th>4</th>\n",
       "      <td>5</td>\n",
       "      <td>cc451ec20dfe8f985c246cc71749917d</td>\n",
       "    </tr>\n",
       "  </tbody>\n",
       "</table>\n",
       "</div>"
      ],
      "text/plain": [
       "  cum_rating                        podcast_id\n",
       "0          5  bead83f2330788f9e629cce951e1df99\n",
       "1          5  cc451ec20dfe8f985c246cc71749917d\n",
       "2          5  b16332f51b9746dc5a97c7ce37644fc6\n",
       "3          5  c1adb6ca5ca39575420fda03c099b037\n",
       "4          5  cc451ec20dfe8f985c246cc71749917d"
      ]
     },
     "execution_count": 63,
     "metadata": {},
     "output_type": "execute_result"
    }
   ],
   "source": [
    "df = app.get_cat_pod(\"F5B4FD0698E670E\")\n",
    "df.head()"
   ]
  },
  {
   "cell_type": "code",
   "execution_count": 64,
   "metadata": {},
   "outputs": [
    {
     "data": {
      "text/html": [
       "<div>\n",
       "<style scoped>\n",
       "    .dataframe tbody tr th:only-of-type {\n",
       "        vertical-align: middle;\n",
       "    }\n",
       "\n",
       "    .dataframe tbody tr th {\n",
       "        vertical-align: top;\n",
       "    }\n",
       "\n",
       "    .dataframe thead th {\n",
       "        text-align: right;\n",
       "    }\n",
       "</style>\n",
       "<table border=\"1\" class=\"dataframe\">\n",
       "  <thead>\n",
       "    <tr style=\"text-align: right;\">\n",
       "      <th></th>\n",
       "      <th>podcast_id</th>\n",
       "      <th>cum_rating</th>\n",
       "    </tr>\n",
       "  </thead>\n",
       "  <tbody>\n",
       "    <tr>\n",
       "      <th>0</th>\n",
       "      <td>a3a535f66c7e8004e7dc54c2b2829a9e</td>\n",
       "      <td>5</td>\n",
       "    </tr>\n",
       "    <tr>\n",
       "      <th>1</th>\n",
       "      <td>b16332f51b9746dc5a97c7ce37644fc6</td>\n",
       "      <td>55</td>\n",
       "    </tr>\n",
       "    <tr>\n",
       "      <th>2</th>\n",
       "      <td>bead83f2330788f9e629cce951e1df99</td>\n",
       "      <td>55</td>\n",
       "    </tr>\n",
       "    <tr>\n",
       "      <th>3</th>\n",
       "      <td>c1adb6ca5ca39575420fda03c099b037</td>\n",
       "      <td>55</td>\n",
       "    </tr>\n",
       "    <tr>\n",
       "      <th>4</th>\n",
       "      <td>c2adb71e6b51e1397b49e216e07f3cef</td>\n",
       "      <td>55</td>\n",
       "    </tr>\n",
       "    <tr>\n",
       "      <th>5</th>\n",
       "      <td>cc451ec20dfe8f985c246cc71749917d</td>\n",
       "      <td>555</td>\n",
       "    </tr>\n",
       "    <tr>\n",
       "      <th>6</th>\n",
       "      <td>ee41bdc529ac60b6cd3b9a50413b0dee</td>\n",
       "      <td>5</td>\n",
       "    </tr>\n",
       "    <tr>\n",
       "      <th>7</th>\n",
       "      <td>f335df99185d1401ada492230b42514a</td>\n",
       "      <td>5</td>\n",
       "    </tr>\n",
       "    <tr>\n",
       "      <th>8</th>\n",
       "      <td>fa3cac03e05c1e9ec792e95e4850d7ce</td>\n",
       "      <td>5</td>\n",
       "    </tr>\n",
       "  </tbody>\n",
       "</table>\n",
       "</div>"
      ],
      "text/plain": [
       "                         podcast_id cum_rating\n",
       "0  a3a535f66c7e8004e7dc54c2b2829a9e          5\n",
       "1  b16332f51b9746dc5a97c7ce37644fc6         55\n",
       "2  bead83f2330788f9e629cce951e1df99         55\n",
       "3  c1adb6ca5ca39575420fda03c099b037         55\n",
       "4  c2adb71e6b51e1397b49e216e07f3cef         55\n",
       "5  cc451ec20dfe8f985c246cc71749917d        555\n",
       "6  ee41bdc529ac60b6cd3b9a50413b0dee          5\n",
       "7  f335df99185d1401ada492230b42514a          5\n",
       "8  fa3cac03e05c1e9ec792e95e4850d7ce          5"
      ]
     },
     "execution_count": 64,
     "metadata": {},
     "output_type": "execute_result"
    }
   ],
   "source": [
    "df.groupby('podcast_id')['cum_rating'].sum().reset_index()"
   ]
  },
  {
   "cell_type": "markdown",
   "metadata": {},
   "source": [
    "## Generar atributos para entrenar modelo"
   ]
  },
  {
   "cell_type": "code",
   "execution_count": 80,
   "metadata": {},
   "outputs": [],
   "source": [
    "class GenAtr:\n",
    "    def __init__(self, uri, auth):\n",
    "        self.driver = GD.driver(uri, auth = auth)\n",
    "        \n",
    "    def close(self):\n",
    "        self.driver.close()\n",
    "        \n",
    "    \n",
    "    def gen_train_data(self, df):\n",
    "        c_names = ['cat_based', 'cat_cnt', 'user_based', 'user_cnt',\n",
    "                   'adamic_adar', 'resource_allocation', 'link_cnt']\n",
    "        df[c_names] = df.apply(self.gen_train_data_row, axis=1, result_type='expand')\n",
    "        df['cat_avg'] = df['cat_based'] / df['cat_cnt']\n",
    "        df['user_avg'] = df['user_based'] / df['user_cnt']\n",
    "        df['adar_avg'] = df['adamic_adar'] / df['link_cnt']\n",
    "        df['ra_avg'] = df['resource_allocation'] / df['link_cnt']\n",
    "        df = df.fillna(0)\n",
    "        return df \n",
    "    \n",
    "    def gen_train_data_row(self, row):\n",
    "        u_id, p_id, rtg = row['user_id'], row['podcast_id'], row['rating']\n",
    "        self.delete_rtg(u_id, p_id)\n",
    "        \n",
    "        result = self.get_cat_based(u_id, p_id)\n",
    "        result += self.get_user_based(u_id, p_id)\n",
    "        result += self.adamic_adar(u_id, p_id)\n",
    "        result += self.resource_allocation(u_id, p_id)\n",
    "        \n",
    "        self.create_rtg(u_id, p_id, rtg)\n",
    "        \n",
    "        return result\n",
    "        \n",
    "    def delete_rtg(self, user_id, podcast_id):\n",
    "        with self.driver.session() as sess:\n",
    "            sess.write_transaction(\n",
    "                self._delete_rtg, user_id, podcast_id)\n",
    "    \n",
    "    @staticmethod\n",
    "    def _delete_rtg(tx, user_id, podcast_id):\n",
    "        query = (\n",
    "            \"MATCH (u:User)-[r]->(p:Podcast) \"\n",
    "            \"WHERE u.id = $user_id AND p.id = $podcast_id \"\n",
    "            \"DELETE r\"\n",
    "        )\n",
    "        tx.run(query, user_id=user_id, podcast_id=podcast_id)\n",
    "\n",
    "        \n",
    "    def create_rtg(self, user_id, podcast_id, rating):\n",
    "        with self.driver.session() as sess:\n",
    "            sess.write_transaction(\n",
    "                self._create_rtg, user_id, podcast_id, rating)\n",
    "    \n",
    "    @staticmethod\n",
    "    def _create_rtg(tx, user_id, podcast_id, rating):\n",
    "        query = (\n",
    "            \"MATCH (u:User) MATCH (p:Podcast) \"\n",
    "            \"WHERE u.id = $user_id AND p.id = $podcast_id \"\n",
    "            \"MERGE (u)-[r:Rating{rating:toInteger($rating)}]->(p) \"\n",
    "        )\n",
    "        tx.run(query, user_id=user_id, podcast_id=podcast_id, rating=rating)\n",
    "        \n",
    "    def get_cat_based(self, user_id, podcast_id):\n",
    "        with self.driver.session() as sess:\n",
    "            result = sess.write_transaction(\n",
    "                self._get_cat_based, user_id, podcast_id)\n",
    "            return result\n",
    "        \n",
    "    @staticmethod\n",
    "    def _get_cat_based(tx, user_id, podcast_id):\n",
    "        query = (\n",
    "            \"MATCH (u:User)-[r]->(Podcast)-->(Category)<--(p:Podcast) \"\n",
    "            \"WHERE u.id = $user_id AND p.id = $podcast_id \"\n",
    "            \"RETURN r\"\n",
    "        )\n",
    "        result = tx.run(query, user_id=user_id, podcast_id=podcast_id)\n",
    "        total = 0\n",
    "        cnt = 0\n",
    "        for rec in result:\n",
    "            total += rec['r']['rating']\n",
    "            cnt += 1\n",
    "        return [total, cnt]\n",
    "    \n",
    "    def get_user_based(self, user_id, podcast_id):\n",
    "        with self.driver.session() as sess:\n",
    "            result = sess.write_transaction(\n",
    "                self._get_user_based, user_id, podcast_id)\n",
    "            return result\n",
    "        \n",
    "    @staticmethod\n",
    "    def _get_user_based(tx, user_id, podcast_id):\n",
    "        query = (\n",
    "            \"MATCH (u:User)-[r1]->(Podcast)<-[r2]->(User)-[r3]->(p:Podcast) \"\n",
    "            \"WHERE u.id = $user_id AND p.id = $podcast_id \"\n",
    "            \"RETURN r1.rating + r2.rating + r3.rating \"\n",
    "            \"AS total\"\n",
    "        )\n",
    "        result = tx.run(query, user_id=user_id, podcast_id=podcast_id)\n",
    "        total = 0\n",
    "        cnt = 0\n",
    "        for rec in result:\n",
    "            total += rec['total']\n",
    "            cnt += 1\n",
    "        return [total, cnt]\n",
    "    \n",
    "    def adamic_adar(self, user_id, podcast_id):\n",
    "        with self.driver.session() as sess:\n",
    "            result = sess.write_transaction(\n",
    "                self._adamic_adar, user_id, podcast_id)\n",
    "            return result\n",
    "        \n",
    "    @staticmethod\n",
    "    def _adamic_adar(tx, user_id, podcast_id):\n",
    "        query = (\n",
    "            \"MATCH (u:User)-[r]->(p1:Podcast) MATCH (p:Podcast)\"\n",
    "            \"WHERE u.id = $user_id AND p.id = $podcast_id \"\n",
    "            \"RETURN r.rating * gds.alpha.linkprediction.adamicAdar(p1, p) \"\n",
    "            \"AS score \"\n",
    "        )\n",
    "        result = tx.run(query, user_id=user_id, podcast_id=podcast_id)\n",
    "        total = 0\n",
    "        for rec in result:\n",
    "            total += rec['score']\n",
    "        return [total]\n",
    "    \n",
    "    def resource_allocation(self, user_id, podcast_id):\n",
    "        with self.driver.session() as sess:\n",
    "            result = sess.write_transaction(\n",
    "                self._resource_allocation, user_id, podcast_id)\n",
    "            return result\n",
    "        \n",
    "    @staticmethod\n",
    "    def _resource_allocation(tx, user_id, podcast_id):\n",
    "        query = (\n",
    "            \"MATCH (u:User)-[r]->(p1:Podcast) MATCH (p:Podcast)\"\n",
    "            \"WHERE u.id = $user_id AND p.id = $podcast_id \"\n",
    "            \"RETURN r.rating * gds.alpha.linkprediction.resourceAllocation(p1, p) \"\n",
    "            \"AS score \"\n",
    "        )\n",
    "        result = tx.run(query, user_id=user_id, podcast_id=podcast_id)\n",
    "        total = 0\n",
    "        cnt = 0\n",
    "        for rec in result:\n",
    "            total += rec['score']\n",
    "            cnt += 1\n",
    "        return [total, cnt]"
   ]
  },
  {
   "cell_type": "code",
   "execution_count": 81,
   "metadata": {},
   "outputs": [],
   "source": [
    "gen = GenAtr(uri, (user, psw))"
   ]
  },
  {
   "cell_type": "markdown",
   "metadata": {},
   "source": [
    "Generación de atributos"
   ]
  },
  {
   "cell_type": "code",
   "execution_count": 82,
   "metadata": {},
   "outputs": [
    {
     "data": {
      "text/html": [
       "<div>\n",
       "<style scoped>\n",
       "    .dataframe tbody tr th:only-of-type {\n",
       "        vertical-align: middle;\n",
       "    }\n",
       "\n",
       "    .dataframe tbody tr th {\n",
       "        vertical-align: top;\n",
       "    }\n",
       "\n",
       "    .dataframe thead th {\n",
       "        text-align: right;\n",
       "    }\n",
       "</style>\n",
       "<table border=\"1\" class=\"dataframe\">\n",
       "  <thead>\n",
       "    <tr style=\"text-align: right;\">\n",
       "      <th></th>\n",
       "      <th>podcast_id</th>\n",
       "      <th>rating</th>\n",
       "      <th>user_id</th>\n",
       "      <th>liked</th>\n",
       "    </tr>\n",
       "  </thead>\n",
       "  <tbody>\n",
       "    <tr>\n",
       "      <th>0</th>\n",
       "      <td>d34629baca14d87860276b12a6cb7a3b</td>\n",
       "      <td>1</td>\n",
       "      <td>949410AE9D72DA4</td>\n",
       "      <td>0</td>\n",
       "    </tr>\n",
       "    <tr>\n",
       "      <th>1</th>\n",
       "      <td>fa3cac03e05c1e9ec792e95e4850d7ce</td>\n",
       "      <td>5</td>\n",
       "      <td>86533A28CA5B4C4</td>\n",
       "      <td>1</td>\n",
       "    </tr>\n",
       "    <tr>\n",
       "      <th>2</th>\n",
       "      <td>a3a535f66c7e8004e7dc54c2b2829a9e</td>\n",
       "      <td>5</td>\n",
       "      <td>6C561484AED5C02</td>\n",
       "      <td>1</td>\n",
       "    </tr>\n",
       "    <tr>\n",
       "      <th>3</th>\n",
       "      <td>ab238917116872cfcbc205e0c97f891a</td>\n",
       "      <td>5</td>\n",
       "      <td>31E49853DC8D7FE</td>\n",
       "      <td>1</td>\n",
       "    </tr>\n",
       "    <tr>\n",
       "      <th>4</th>\n",
       "      <td>ab238917116872cfcbc205e0c97f891a</td>\n",
       "      <td>5</td>\n",
       "      <td>6D1D40D537B071F</td>\n",
       "      <td>1</td>\n",
       "    </tr>\n",
       "  </tbody>\n",
       "</table>\n",
       "</div>"
      ],
      "text/plain": [
       "                         podcast_id  rating          user_id  liked\n",
       "0  d34629baca14d87860276b12a6cb7a3b       1  949410AE9D72DA4      0\n",
       "1  fa3cac03e05c1e9ec792e95e4850d7ce       5  86533A28CA5B4C4      1\n",
       "2  a3a535f66c7e8004e7dc54c2b2829a9e       5  6C561484AED5C02      1\n",
       "3  ab238917116872cfcbc205e0c97f891a       5  31E49853DC8D7FE      1\n",
       "4  ab238917116872cfcbc205e0c97f891a       5  6D1D40D537B071F      1"
      ]
     },
     "execution_count": 82,
     "metadata": {},
     "output_type": "execute_result"
    }
   ],
   "source": [
    "rtg = pd.read_csv('data/ratings_sample.csv')\n",
    "rtg.head()"
   ]
  },
  {
   "cell_type": "code",
   "execution_count": 83,
   "metadata": {},
   "outputs": [
    {
     "data": {
      "text/html": [
       "<div>\n",
       "<style scoped>\n",
       "    .dataframe tbody tr th:only-of-type {\n",
       "        vertical-align: middle;\n",
       "    }\n",
       "\n",
       "    .dataframe tbody tr th {\n",
       "        vertical-align: top;\n",
       "    }\n",
       "\n",
       "    .dataframe thead th {\n",
       "        text-align: right;\n",
       "    }\n",
       "</style>\n",
       "<table border=\"1\" class=\"dataframe\">\n",
       "  <thead>\n",
       "    <tr style=\"text-align: right;\">\n",
       "      <th></th>\n",
       "      <th>rating</th>\n",
       "      <th>liked</th>\n",
       "      <th>cat_based</th>\n",
       "      <th>cat_cnt</th>\n",
       "      <th>user_based</th>\n",
       "      <th>user_cnt</th>\n",
       "      <th>adamic_adar</th>\n",
       "      <th>resource_allocation</th>\n",
       "      <th>link_cnt</th>\n",
       "      <th>cat_avg</th>\n",
       "      <th>user_avg</th>\n",
       "      <th>adar_avg</th>\n",
       "      <th>ra_avg</th>\n",
       "    </tr>\n",
       "  </thead>\n",
       "  <tbody>\n",
       "    <tr>\n",
       "      <th>count</th>\n",
       "      <td>1009.000000</td>\n",
       "      <td>1009.000000</td>\n",
       "      <td>1009.000000</td>\n",
       "      <td>1009.000000</td>\n",
       "      <td>1009.000000</td>\n",
       "      <td>1009.000000</td>\n",
       "      <td>1009.000000</td>\n",
       "      <td>1009.000000</td>\n",
       "      <td>1009.000000</td>\n",
       "      <td>1009.000000</td>\n",
       "      <td>1009.000000</td>\n",
       "      <td>1009.000000</td>\n",
       "      <td>1009.000000</td>\n",
       "    </tr>\n",
       "    <tr>\n",
       "      <th>mean</th>\n",
       "      <td>4.105055</td>\n",
       "      <td>0.792864</td>\n",
       "      <td>20.096135</td>\n",
       "      <td>4.851338</td>\n",
       "      <td>41.193261</td>\n",
       "      <td>3.147671</td>\n",
       "      <td>14.763971</td>\n",
       "      <td>3.453498</td>\n",
       "      <td>7.334985</td>\n",
       "      <td>3.426315</td>\n",
       "      <td>7.585846</td>\n",
       "      <td>4.091243</td>\n",
       "      <td>1.189516</td>\n",
       "    </tr>\n",
       "    <tr>\n",
       "      <th>std</th>\n",
       "      <td>1.575754</td>\n",
       "      <td>0.405455</td>\n",
       "      <td>22.590727</td>\n",
       "      <td>4.830223</td>\n",
       "      <td>67.411960</td>\n",
       "      <td>4.750000</td>\n",
       "      <td>19.014957</td>\n",
       "      <td>5.679908</td>\n",
       "      <td>8.005255</td>\n",
       "      <td>1.953948</td>\n",
       "      <td>6.469284</td>\n",
       "      <td>8.608641</td>\n",
       "      <td>2.925391</td>\n",
       "    </tr>\n",
       "    <tr>\n",
       "      <th>min</th>\n",
       "      <td>1.000000</td>\n",
       "      <td>0.000000</td>\n",
       "      <td>0.000000</td>\n",
       "      <td>0.000000</td>\n",
       "      <td>0.000000</td>\n",
       "      <td>0.000000</td>\n",
       "      <td>0.000000</td>\n",
       "      <td>0.000000</td>\n",
       "      <td>0.000000</td>\n",
       "      <td>0.000000</td>\n",
       "      <td>0.000000</td>\n",
       "      <td>0.000000</td>\n",
       "      <td>0.000000</td>\n",
       "    </tr>\n",
       "    <tr>\n",
       "      <th>25%</th>\n",
       "      <td>4.000000</td>\n",
       "      <td>1.000000</td>\n",
       "      <td>5.000000</td>\n",
       "      <td>2.000000</td>\n",
       "      <td>0.000000</td>\n",
       "      <td>0.000000</td>\n",
       "      <td>2.332282</td>\n",
       "      <td>0.332093</td>\n",
       "      <td>2.000000</td>\n",
       "      <td>1.000000</td>\n",
       "      <td>0.000000</td>\n",
       "      <td>0.466456</td>\n",
       "      <td>0.048263</td>\n",
       "    </tr>\n",
       "    <tr>\n",
       "      <th>50%</th>\n",
       "      <td>5.000000</td>\n",
       "      <td>1.000000</td>\n",
       "      <td>10.000000</td>\n",
       "      <td>4.000000</td>\n",
       "      <td>12.000000</td>\n",
       "      <td>1.000000</td>\n",
       "      <td>8.316399</td>\n",
       "      <td>1.361685</td>\n",
       "      <td>5.000000</td>\n",
       "      <td>4.500000</td>\n",
       "      <td>11.000000</td>\n",
       "      <td>1.420830</td>\n",
       "      <td>0.215201</td>\n",
       "    </tr>\n",
       "    <tr>\n",
       "      <th>75%</th>\n",
       "      <td>5.000000</td>\n",
       "      <td>1.000000</td>\n",
       "      <td>26.000000</td>\n",
       "      <td>7.000000</td>\n",
       "      <td>63.000000</td>\n",
       "      <td>5.000000</td>\n",
       "      <td>18.804709</td>\n",
       "      <td>4.198098</td>\n",
       "      <td>11.000000</td>\n",
       "      <td>5.000000</td>\n",
       "      <td>13.400000</td>\n",
       "      <td>2.709868</td>\n",
       "      <td>0.628283</td>\n",
       "    </tr>\n",
       "    <tr>\n",
       "      <th>max</th>\n",
       "      <td>5.000000</td>\n",
       "      <td>1.000000</td>\n",
       "      <td>150.000000</td>\n",
       "      <td>30.000000</td>\n",
       "      <td>675.000000</td>\n",
       "      <td>45.000000</td>\n",
       "      <td>181.371997</td>\n",
       "      <td>54.386752</td>\n",
       "      <td>40.000000</td>\n",
       "      <td>5.000000</td>\n",
       "      <td>15.000000</td>\n",
       "      <td>62.866498</td>\n",
       "      <td>21.230926</td>\n",
       "    </tr>\n",
       "  </tbody>\n",
       "</table>\n",
       "</div>"
      ],
      "text/plain": [
       "            rating        liked    cat_based      cat_cnt   user_based  \\\n",
       "count  1009.000000  1009.000000  1009.000000  1009.000000  1009.000000   \n",
       "mean      4.105055     0.792864    20.096135     4.851338    41.193261   \n",
       "std       1.575754     0.405455    22.590727     4.830223    67.411960   \n",
       "min       1.000000     0.000000     0.000000     0.000000     0.000000   \n",
       "25%       4.000000     1.000000     5.000000     2.000000     0.000000   \n",
       "50%       5.000000     1.000000    10.000000     4.000000    12.000000   \n",
       "75%       5.000000     1.000000    26.000000     7.000000    63.000000   \n",
       "max       5.000000     1.000000   150.000000    30.000000   675.000000   \n",
       "\n",
       "          user_cnt  adamic_adar  resource_allocation     link_cnt  \\\n",
       "count  1009.000000  1009.000000          1009.000000  1009.000000   \n",
       "mean      3.147671    14.763971             3.453498     7.334985   \n",
       "std       4.750000    19.014957             5.679908     8.005255   \n",
       "min       0.000000     0.000000             0.000000     0.000000   \n",
       "25%       0.000000     2.332282             0.332093     2.000000   \n",
       "50%       1.000000     8.316399             1.361685     5.000000   \n",
       "75%       5.000000    18.804709             4.198098    11.000000   \n",
       "max      45.000000   181.371997            54.386752    40.000000   \n",
       "\n",
       "           cat_avg     user_avg     adar_avg       ra_avg  \n",
       "count  1009.000000  1009.000000  1009.000000  1009.000000  \n",
       "mean      3.426315     7.585846     4.091243     1.189516  \n",
       "std       1.953948     6.469284     8.608641     2.925391  \n",
       "min       0.000000     0.000000     0.000000     0.000000  \n",
       "25%       1.000000     0.000000     0.466456     0.048263  \n",
       "50%       4.500000    11.000000     1.420830     0.215201  \n",
       "75%       5.000000    13.400000     2.709868     0.628283  \n",
       "max       5.000000    15.000000    62.866498    21.230926  "
      ]
     },
     "execution_count": 83,
     "metadata": {},
     "output_type": "execute_result"
    }
   ],
   "source": [
    "data = gen.gen_train_data(rtg.copy())\n",
    "data.describe()"
   ]
  },
  {
   "cell_type": "code",
   "execution_count": 84,
   "metadata": {},
   "outputs": [
    {
     "data": {
      "text/plain": [
       "(706, 151, 152)"
      ]
     },
     "execution_count": 84,
     "metadata": {},
     "output_type": "execute_result"
    }
   ],
   "source": [
    "from sklearn.model_selection import train_test_split\n",
    "c_names = ['user_id', 'podcast_id', 'cat_based', 'cat_cnt', 'user_based', 'user_cnt',\n",
    "            'adamic_adar', 'resource_allocation', 'link_cnt', 'cat_avg', 'user_avg',\n",
    "            'adar_avg', 'ra_avg']\n",
    "features = ['cat_based', 'cat_cnt', 'user_based', 'user_cnt',\n",
    "            'adamic_adar', 'resource_allocation', 'link_cnt', 'cat_avg', 'user_avg',\n",
    "            'adar_avg', 'ra_avg']\n",
    "x = data[c_names]\n",
    "y = data['liked']\n",
    "x_train, x2, y_train, y2 = train_test_split(x, y, test_size=0.3)\n",
    "x_val, x_test, y_val, y_test = train_test_split(x2, y2, test_size=0.5)\n",
    "len(y_train), len(y_val), len(y_test)"
   ]
  },
  {
   "cell_type": "code",
   "execution_count": null,
   "metadata": {},
   "outputs": [],
   "source": []
  },
  {
   "cell_type": "code",
   "execution_count": 85,
   "metadata": {},
   "outputs": [
    {
     "data": {
      "text/plain": [
       "(0.7988668555240793, 0.7814569536423841, 0.7763157894736842)"
      ]
     },
     "execution_count": 85,
     "metadata": {},
     "output_type": "execute_result"
    }
   ],
   "source": [
    "y_train.mean(), y_val.mean(), y_test.mean()"
   ]
  },
  {
   "cell_type": "code",
   "execution_count": 86,
   "metadata": {},
   "outputs": [],
   "source": [
    "y_train.to_csv('data/y_train.csv', index=False)\n",
    "x_train.to_csv('data/x_train.csv', index=False)\n",
    "y_val.to_csv('data/y_val.csv', index=False)\n",
    "x_val.to_csv('data/x_val.csv', index=False)\n",
    "y_test.to_csv('data/y_te.csv', index=False)"
   ]
  },
  {
   "cell_type": "code",
   "execution_count": 87,
   "metadata": {},
   "outputs": [
    {
     "ename": "AttributeError",
     "evalue": "'str' object has no attribute 'decode'",
     "output_type": "error",
     "traceback": [
      "\u001b[0;31m---------------------------------------------------------------------------\u001b[0m",
      "\u001b[0;31mAttributeError\u001b[0m                            Traceback (most recent call last)",
      "\u001b[0;32m<ipython-input-87-2e17ed283d3a>\u001b[0m in \u001b[0;36m<module>\u001b[0;34m\u001b[0m\n\u001b[1;32m      1\u001b[0m \u001b[0;32mfrom\u001b[0m \u001b[0msklearn\u001b[0m\u001b[0;34m.\u001b[0m\u001b[0mlinear_model\u001b[0m \u001b[0;32mimport\u001b[0m \u001b[0mLogisticRegression\u001b[0m\u001b[0;34m\u001b[0m\u001b[0;34m\u001b[0m\u001b[0m\n\u001b[1;32m      2\u001b[0m \u001b[0mlr\u001b[0m \u001b[0;34m=\u001b[0m \u001b[0mLogisticRegression\u001b[0m\u001b[0;34m(\u001b[0m\u001b[0;34m)\u001b[0m\u001b[0;34m\u001b[0m\u001b[0;34m\u001b[0m\u001b[0m\n\u001b[0;32m----> 3\u001b[0;31m \u001b[0mlr\u001b[0m\u001b[0;34m.\u001b[0m\u001b[0mfit\u001b[0m\u001b[0;34m(\u001b[0m\u001b[0mx_train\u001b[0m\u001b[0;34m[\u001b[0m\u001b[0mfeatures\u001b[0m\u001b[0;34m]\u001b[0m\u001b[0;34m,\u001b[0m \u001b[0my_train\u001b[0m\u001b[0;34m)\u001b[0m\u001b[0;34m\u001b[0m\u001b[0;34m\u001b[0m\u001b[0m\n\u001b[0m",
      "\u001b[0;32m~/opt/anaconda3/lib/python3.8/site-packages/sklearn/linear_model/_logistic.py\u001b[0m in \u001b[0;36mfit\u001b[0;34m(self, X, y, sample_weight)\u001b[0m\n\u001b[1;32m   1405\u001b[0m         \u001b[0;32melse\u001b[0m\u001b[0;34m:\u001b[0m\u001b[0;34m\u001b[0m\u001b[0;34m\u001b[0m\u001b[0m\n\u001b[1;32m   1406\u001b[0m             \u001b[0mprefer\u001b[0m \u001b[0;34m=\u001b[0m \u001b[0;34m'processes'\u001b[0m\u001b[0;34m\u001b[0m\u001b[0;34m\u001b[0m\u001b[0m\n\u001b[0;32m-> 1407\u001b[0;31m         fold_coefs_ = Parallel(n_jobs=self.n_jobs, verbose=self.verbose,\n\u001b[0m\u001b[1;32m   1408\u001b[0m                                \u001b[0;34m**\u001b[0m\u001b[0m_joblib_parallel_args\u001b[0m\u001b[0;34m(\u001b[0m\u001b[0mprefer\u001b[0m\u001b[0;34m=\u001b[0m\u001b[0mprefer\u001b[0m\u001b[0;34m)\u001b[0m\u001b[0;34m)\u001b[0m\u001b[0;34m(\u001b[0m\u001b[0;34m\u001b[0m\u001b[0;34m\u001b[0m\u001b[0m\n\u001b[1;32m   1409\u001b[0m             path_func(X, y, pos_class=class_, Cs=[C_],\n",
      "\u001b[0;32m~/opt/anaconda3/lib/python3.8/site-packages/joblib/parallel.py\u001b[0m in \u001b[0;36m__call__\u001b[0;34m(self, iterable)\u001b[0m\n\u001b[1;32m   1027\u001b[0m             \u001b[0;31m# remaining jobs.\u001b[0m\u001b[0;34m\u001b[0m\u001b[0;34m\u001b[0m\u001b[0;34m\u001b[0m\u001b[0m\n\u001b[1;32m   1028\u001b[0m             \u001b[0mself\u001b[0m\u001b[0;34m.\u001b[0m\u001b[0m_iterating\u001b[0m \u001b[0;34m=\u001b[0m \u001b[0;32mFalse\u001b[0m\u001b[0;34m\u001b[0m\u001b[0;34m\u001b[0m\u001b[0m\n\u001b[0;32m-> 1029\u001b[0;31m             \u001b[0;32mif\u001b[0m \u001b[0mself\u001b[0m\u001b[0;34m.\u001b[0m\u001b[0mdispatch_one_batch\u001b[0m\u001b[0;34m(\u001b[0m\u001b[0miterator\u001b[0m\u001b[0;34m)\u001b[0m\u001b[0;34m:\u001b[0m\u001b[0;34m\u001b[0m\u001b[0;34m\u001b[0m\u001b[0m\n\u001b[0m\u001b[1;32m   1030\u001b[0m                 \u001b[0mself\u001b[0m\u001b[0;34m.\u001b[0m\u001b[0m_iterating\u001b[0m \u001b[0;34m=\u001b[0m \u001b[0mself\u001b[0m\u001b[0;34m.\u001b[0m\u001b[0m_original_iterator\u001b[0m \u001b[0;32mis\u001b[0m \u001b[0;32mnot\u001b[0m \u001b[0;32mNone\u001b[0m\u001b[0;34m\u001b[0m\u001b[0;34m\u001b[0m\u001b[0m\n\u001b[1;32m   1031\u001b[0m \u001b[0;34m\u001b[0m\u001b[0m\n",
      "\u001b[0;32m~/opt/anaconda3/lib/python3.8/site-packages/joblib/parallel.py\u001b[0m in \u001b[0;36mdispatch_one_batch\u001b[0;34m(self, iterator)\u001b[0m\n\u001b[1;32m    845\u001b[0m                 \u001b[0;32mreturn\u001b[0m \u001b[0;32mFalse\u001b[0m\u001b[0;34m\u001b[0m\u001b[0;34m\u001b[0m\u001b[0m\n\u001b[1;32m    846\u001b[0m             \u001b[0;32melse\u001b[0m\u001b[0;34m:\u001b[0m\u001b[0;34m\u001b[0m\u001b[0;34m\u001b[0m\u001b[0m\n\u001b[0;32m--> 847\u001b[0;31m                 \u001b[0mself\u001b[0m\u001b[0;34m.\u001b[0m\u001b[0m_dispatch\u001b[0m\u001b[0;34m(\u001b[0m\u001b[0mtasks\u001b[0m\u001b[0;34m)\u001b[0m\u001b[0;34m\u001b[0m\u001b[0;34m\u001b[0m\u001b[0m\n\u001b[0m\u001b[1;32m    848\u001b[0m                 \u001b[0;32mreturn\u001b[0m \u001b[0;32mTrue\u001b[0m\u001b[0;34m\u001b[0m\u001b[0;34m\u001b[0m\u001b[0m\n\u001b[1;32m    849\u001b[0m \u001b[0;34m\u001b[0m\u001b[0m\n",
      "\u001b[0;32m~/opt/anaconda3/lib/python3.8/site-packages/joblib/parallel.py\u001b[0m in \u001b[0;36m_dispatch\u001b[0;34m(self, batch)\u001b[0m\n\u001b[1;32m    763\u001b[0m         \u001b[0;32mwith\u001b[0m \u001b[0mself\u001b[0m\u001b[0;34m.\u001b[0m\u001b[0m_lock\u001b[0m\u001b[0;34m:\u001b[0m\u001b[0;34m\u001b[0m\u001b[0;34m\u001b[0m\u001b[0m\n\u001b[1;32m    764\u001b[0m             \u001b[0mjob_idx\u001b[0m \u001b[0;34m=\u001b[0m \u001b[0mlen\u001b[0m\u001b[0;34m(\u001b[0m\u001b[0mself\u001b[0m\u001b[0;34m.\u001b[0m\u001b[0m_jobs\u001b[0m\u001b[0;34m)\u001b[0m\u001b[0;34m\u001b[0m\u001b[0;34m\u001b[0m\u001b[0m\n\u001b[0;32m--> 765\u001b[0;31m             \u001b[0mjob\u001b[0m \u001b[0;34m=\u001b[0m \u001b[0mself\u001b[0m\u001b[0;34m.\u001b[0m\u001b[0m_backend\u001b[0m\u001b[0;34m.\u001b[0m\u001b[0mapply_async\u001b[0m\u001b[0;34m(\u001b[0m\u001b[0mbatch\u001b[0m\u001b[0;34m,\u001b[0m \u001b[0mcallback\u001b[0m\u001b[0;34m=\u001b[0m\u001b[0mcb\u001b[0m\u001b[0;34m)\u001b[0m\u001b[0;34m\u001b[0m\u001b[0;34m\u001b[0m\u001b[0m\n\u001b[0m\u001b[1;32m    766\u001b[0m             \u001b[0;31m# A job can complete so quickly than its callback is\u001b[0m\u001b[0;34m\u001b[0m\u001b[0;34m\u001b[0m\u001b[0;34m\u001b[0m\u001b[0m\n\u001b[1;32m    767\u001b[0m             \u001b[0;31m# called before we get here, causing self._jobs to\u001b[0m\u001b[0;34m\u001b[0m\u001b[0;34m\u001b[0m\u001b[0;34m\u001b[0m\u001b[0m\n",
      "\u001b[0;32m~/opt/anaconda3/lib/python3.8/site-packages/joblib/_parallel_backends.py\u001b[0m in \u001b[0;36mapply_async\u001b[0;34m(self, func, callback)\u001b[0m\n\u001b[1;32m    206\u001b[0m     \u001b[0;32mdef\u001b[0m \u001b[0mapply_async\u001b[0m\u001b[0;34m(\u001b[0m\u001b[0mself\u001b[0m\u001b[0;34m,\u001b[0m \u001b[0mfunc\u001b[0m\u001b[0;34m,\u001b[0m \u001b[0mcallback\u001b[0m\u001b[0;34m=\u001b[0m\u001b[0;32mNone\u001b[0m\u001b[0;34m)\u001b[0m\u001b[0;34m:\u001b[0m\u001b[0;34m\u001b[0m\u001b[0;34m\u001b[0m\u001b[0m\n\u001b[1;32m    207\u001b[0m         \u001b[0;34m\"\"\"Schedule a func to be run\"\"\"\u001b[0m\u001b[0;34m\u001b[0m\u001b[0;34m\u001b[0m\u001b[0m\n\u001b[0;32m--> 208\u001b[0;31m         \u001b[0mresult\u001b[0m \u001b[0;34m=\u001b[0m \u001b[0mImmediateResult\u001b[0m\u001b[0;34m(\u001b[0m\u001b[0mfunc\u001b[0m\u001b[0;34m)\u001b[0m\u001b[0;34m\u001b[0m\u001b[0;34m\u001b[0m\u001b[0m\n\u001b[0m\u001b[1;32m    209\u001b[0m         \u001b[0;32mif\u001b[0m \u001b[0mcallback\u001b[0m\u001b[0;34m:\u001b[0m\u001b[0;34m\u001b[0m\u001b[0;34m\u001b[0m\u001b[0m\n\u001b[1;32m    210\u001b[0m             \u001b[0mcallback\u001b[0m\u001b[0;34m(\u001b[0m\u001b[0mresult\u001b[0m\u001b[0;34m)\u001b[0m\u001b[0;34m\u001b[0m\u001b[0;34m\u001b[0m\u001b[0m\n",
      "\u001b[0;32m~/opt/anaconda3/lib/python3.8/site-packages/joblib/_parallel_backends.py\u001b[0m in \u001b[0;36m__init__\u001b[0;34m(self, batch)\u001b[0m\n\u001b[1;32m    570\u001b[0m         \u001b[0;31m# Don't delay the application, to avoid keeping the input\u001b[0m\u001b[0;34m\u001b[0m\u001b[0;34m\u001b[0m\u001b[0;34m\u001b[0m\u001b[0m\n\u001b[1;32m    571\u001b[0m         \u001b[0;31m# arguments in memory\u001b[0m\u001b[0;34m\u001b[0m\u001b[0;34m\u001b[0m\u001b[0;34m\u001b[0m\u001b[0m\n\u001b[0;32m--> 572\u001b[0;31m         \u001b[0mself\u001b[0m\u001b[0;34m.\u001b[0m\u001b[0mresults\u001b[0m \u001b[0;34m=\u001b[0m \u001b[0mbatch\u001b[0m\u001b[0;34m(\u001b[0m\u001b[0;34m)\u001b[0m\u001b[0;34m\u001b[0m\u001b[0;34m\u001b[0m\u001b[0m\n\u001b[0m\u001b[1;32m    573\u001b[0m \u001b[0;34m\u001b[0m\u001b[0m\n\u001b[1;32m    574\u001b[0m     \u001b[0;32mdef\u001b[0m \u001b[0mget\u001b[0m\u001b[0;34m(\u001b[0m\u001b[0mself\u001b[0m\u001b[0;34m)\u001b[0m\u001b[0;34m:\u001b[0m\u001b[0;34m\u001b[0m\u001b[0;34m\u001b[0m\u001b[0m\n",
      "\u001b[0;32m~/opt/anaconda3/lib/python3.8/site-packages/joblib/parallel.py\u001b[0m in \u001b[0;36m__call__\u001b[0;34m(self)\u001b[0m\n\u001b[1;32m    250\u001b[0m         \u001b[0;31m# change the default number of processes to -1\u001b[0m\u001b[0;34m\u001b[0m\u001b[0;34m\u001b[0m\u001b[0;34m\u001b[0m\u001b[0m\n\u001b[1;32m    251\u001b[0m         \u001b[0;32mwith\u001b[0m \u001b[0mparallel_backend\u001b[0m\u001b[0;34m(\u001b[0m\u001b[0mself\u001b[0m\u001b[0;34m.\u001b[0m\u001b[0m_backend\u001b[0m\u001b[0;34m,\u001b[0m \u001b[0mn_jobs\u001b[0m\u001b[0;34m=\u001b[0m\u001b[0mself\u001b[0m\u001b[0;34m.\u001b[0m\u001b[0m_n_jobs\u001b[0m\u001b[0;34m)\u001b[0m\u001b[0;34m:\u001b[0m\u001b[0;34m\u001b[0m\u001b[0;34m\u001b[0m\u001b[0m\n\u001b[0;32m--> 252\u001b[0;31m             return [func(*args, **kwargs)\n\u001b[0m\u001b[1;32m    253\u001b[0m                     for func, args, kwargs in self.items]\n\u001b[1;32m    254\u001b[0m \u001b[0;34m\u001b[0m\u001b[0m\n",
      "\u001b[0;32m~/opt/anaconda3/lib/python3.8/site-packages/joblib/parallel.py\u001b[0m in \u001b[0;36m<listcomp>\u001b[0;34m(.0)\u001b[0m\n\u001b[1;32m    250\u001b[0m         \u001b[0;31m# change the default number of processes to -1\u001b[0m\u001b[0;34m\u001b[0m\u001b[0;34m\u001b[0m\u001b[0;34m\u001b[0m\u001b[0m\n\u001b[1;32m    251\u001b[0m         \u001b[0;32mwith\u001b[0m \u001b[0mparallel_backend\u001b[0m\u001b[0;34m(\u001b[0m\u001b[0mself\u001b[0m\u001b[0;34m.\u001b[0m\u001b[0m_backend\u001b[0m\u001b[0;34m,\u001b[0m \u001b[0mn_jobs\u001b[0m\u001b[0;34m=\u001b[0m\u001b[0mself\u001b[0m\u001b[0;34m.\u001b[0m\u001b[0m_n_jobs\u001b[0m\u001b[0;34m)\u001b[0m\u001b[0;34m:\u001b[0m\u001b[0;34m\u001b[0m\u001b[0;34m\u001b[0m\u001b[0m\n\u001b[0;32m--> 252\u001b[0;31m             return [func(*args, **kwargs)\n\u001b[0m\u001b[1;32m    253\u001b[0m                     for func, args, kwargs in self.items]\n\u001b[1;32m    254\u001b[0m \u001b[0;34m\u001b[0m\u001b[0m\n",
      "\u001b[0;32m~/opt/anaconda3/lib/python3.8/site-packages/sklearn/linear_model/_logistic.py\u001b[0m in \u001b[0;36m_logistic_regression_path\u001b[0;34m(X, y, pos_class, Cs, fit_intercept, max_iter, tol, verbose, solver, coef, class_weight, dual, penalty, intercept_scaling, multi_class, random_state, check_input, max_squared_sum, sample_weight, l1_ratio)\u001b[0m\n\u001b[1;32m    760\u001b[0m                 \u001b[0moptions\u001b[0m\u001b[0;34m=\u001b[0m\u001b[0;34m{\u001b[0m\u001b[0;34m\"iprint\"\u001b[0m\u001b[0;34m:\u001b[0m \u001b[0miprint\u001b[0m\u001b[0;34m,\u001b[0m \u001b[0;34m\"gtol\"\u001b[0m\u001b[0;34m:\u001b[0m \u001b[0mtol\u001b[0m\u001b[0;34m,\u001b[0m \u001b[0;34m\"maxiter\"\u001b[0m\u001b[0;34m:\u001b[0m \u001b[0mmax_iter\u001b[0m\u001b[0;34m}\u001b[0m\u001b[0;34m\u001b[0m\u001b[0;34m\u001b[0m\u001b[0m\n\u001b[1;32m    761\u001b[0m             )\n\u001b[0;32m--> 762\u001b[0;31m             n_iter_i = _check_optimize_result(\n\u001b[0m\u001b[1;32m    763\u001b[0m                 \u001b[0msolver\u001b[0m\u001b[0;34m,\u001b[0m \u001b[0mopt_res\u001b[0m\u001b[0;34m,\u001b[0m \u001b[0mmax_iter\u001b[0m\u001b[0;34m,\u001b[0m\u001b[0;34m\u001b[0m\u001b[0;34m\u001b[0m\u001b[0m\n\u001b[1;32m    764\u001b[0m                 extra_warning_msg=_LOGISTIC_SOLVER_CONVERGENCE_MSG)\n",
      "\u001b[0;32m~/opt/anaconda3/lib/python3.8/site-packages/sklearn/utils/optimize.py\u001b[0m in \u001b[0;36m_check_optimize_result\u001b[0;34m(solver, result, max_iter, extra_warning_msg)\u001b[0m\n\u001b[1;32m    241\u001b[0m                 \u001b[0;34m\"    https://scikit-learn.org/stable/modules/\"\u001b[0m\u001b[0;34m\u001b[0m\u001b[0;34m\u001b[0m\u001b[0m\n\u001b[1;32m    242\u001b[0m                 \u001b[0;34m\"preprocessing.html\"\u001b[0m\u001b[0;34m\u001b[0m\u001b[0;34m\u001b[0m\u001b[0m\n\u001b[0;32m--> 243\u001b[0;31m             ).format(solver, result.status, result.message.decode(\"latin1\"))\n\u001b[0m\u001b[1;32m    244\u001b[0m             \u001b[0;32mif\u001b[0m \u001b[0mextra_warning_msg\u001b[0m \u001b[0;32mis\u001b[0m \u001b[0;32mnot\u001b[0m \u001b[0;32mNone\u001b[0m\u001b[0;34m:\u001b[0m\u001b[0;34m\u001b[0m\u001b[0;34m\u001b[0m\u001b[0m\n\u001b[1;32m    245\u001b[0m                 \u001b[0mwarning_msg\u001b[0m \u001b[0;34m+=\u001b[0m \u001b[0;34m\"\\n\"\u001b[0m \u001b[0;34m+\u001b[0m \u001b[0mextra_warning_msg\u001b[0m\u001b[0;34m\u001b[0m\u001b[0;34m\u001b[0m\u001b[0m\n",
      "\u001b[0;31mAttributeError\u001b[0m: 'str' object has no attribute 'decode'"
     ]
    }
   ],
   "source": [
    "from sklearn.linear_model import LogisticRegression\n",
    "lr = LogisticRegression()\n",
    "lr.fit(x_train[features], y_train)"
   ]
  },
  {
   "cell_type": "code",
   "execution_count": 67,
   "metadata": {},
   "outputs": [
    {
     "data": {
      "text/plain": [
       "array([1, 0, 1, 0, 1, 1, 1, 1, 1, 1, 0, 1, 1, 1, 1, 1, 1, 1, 1, 0, 0, 1,\n",
       "       1, 1, 1, 1, 1, 1, 1, 1, 1, 1, 1, 1, 1, 1, 1, 1, 1, 1, 1, 1, 1, 1,\n",
       "       1, 1, 0, 0, 0, 1, 1, 1, 1, 1, 1, 1, 1, 0, 1, 1, 1, 1, 1, 1, 1, 1,\n",
       "       0, 1, 1, 1, 1, 1, 1, 1, 1, 1, 1, 1, 1, 1, 1, 1, 0, 1, 0, 1, 0, 1,\n",
       "       1, 1, 1, 1, 1, 0, 1, 1, 1, 1, 1, 1, 0, 1, 1, 1, 1, 1, 1, 1, 0, 1,\n",
       "       1, 1, 1, 1, 1, 1, 1, 1, 1, 1, 1, 1, 1, 0, 1, 1, 1, 1, 1, 1, 1, 0,\n",
       "       1, 1, 1, 1, 1, 1, 1, 1, 1, 1, 1, 1, 1, 1, 1, 1, 1, 0, 1])"
      ]
     },
     "execution_count": 67,
     "metadata": {},
     "output_type": "execute_result"
    }
   ],
   "source": [
    "y_pred = lr.predict(x_val[features])\n",
    "y_pred"
   ]
  },
  {
   "cell_type": "code",
   "execution_count": 68,
   "metadata": {},
   "outputs": [
    {
     "data": {
      "text/plain": [
       "y_val     0.781457\n",
       "y_pred    0.874172\n",
       "right     0.854305\n",
       "dtype: float64"
      ]
     },
     "execution_count": 68,
     "metadata": {},
     "output_type": "execute_result"
    }
   ],
   "source": [
    "df = pd.DataFrame({'y_val':y_val.values, 'y_pred':y_pred})\n",
    "df['right'] = df['y_val'] == df['y_pred']\n",
    "df.sum() / len(df)"
   ]
  },
  {
   "cell_type": "code",
   "execution_count": 69,
   "metadata": {},
   "outputs": [
    {
     "data": {
      "text/plain": [
       "y_test    0.789474\n",
       "y_pred    0.868421\n",
       "right     0.776316\n",
       "dtype: float64"
      ]
     },
     "execution_count": 69,
     "metadata": {},
     "output_type": "execute_result"
    }
   ],
   "source": [
    "pred = lr.predict(x_test[features])\n",
    "df = pd.DataFrame({'y_test':y_test.values, 'y_pred':pred})\n",
    "df['right'] = df['y_test'] == df['y_pred']\n",
    "df.sum() / len(df)"
   ]
  },
  {
   "cell_type": "code",
   "execution_count": 56,
   "metadata": {},
   "outputs": [],
   "source": [
    "df['cat_avg'] = df['cat_based'] / df['cat_cnt']\n",
    "        df['user_avg'] = df['user_based'] / df['user_cnt']\n",
    "        df['adar_avg'] = df['adamic_adar'] / df['link_cnt']\n",
    "        df['ra_avg'] = df['resource_allocation'] / df['link_cnt']"
   ]
  },
  {
   "cell_type": "code",
   "execution_count": null,
   "metadata": {},
   "outputs": [],
   "source": []
  }
 ],
 "metadata": {
  "kernelspec": {
   "display_name": "Python 3",
   "language": "python",
   "name": "python3"
  },
  "language_info": {
   "codemirror_mode": {
    "name": "ipython",
    "version": 3
   },
   "file_extension": ".py",
   "mimetype": "text/x-python",
   "name": "python",
   "nbconvert_exporter": "python",
   "pygments_lexer": "ipython3",
   "version": "3.8.3"
  }
 },
 "nbformat": 4,
 "nbformat_minor": 4
}
