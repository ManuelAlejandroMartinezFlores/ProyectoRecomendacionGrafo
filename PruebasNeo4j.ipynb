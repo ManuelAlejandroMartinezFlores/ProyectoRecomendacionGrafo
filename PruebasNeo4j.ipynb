{
 "cells": [
  {
   "cell_type": "markdown",
   "metadata": {},
   "source": [
    "# Pruebas Neo4j"
   ]
  },
  {
   "cell_type": "code",
   "execution_count": 1,
   "metadata": {},
   "outputs": [],
   "source": [
    "from neo4j import GraphDatabase as GD\n",
    "import pandas as pd\n",
    "import numpy as np"
   ]
  },
  {
   "cell_type": "code",
   "execution_count": 2,
   "metadata": {},
   "outputs": [],
   "source": [
    "uri = 'bolt://localhost:7687'\n",
    "user = 'neo4j'\n",
    "psw = 'password'"
   ]
  },
  {
   "cell_type": "markdown",
   "metadata": {},
   "source": [
    "### Primera prueba"
   ]
  },
  {
   "cell_type": "code",
   "execution_count": 14,
   "metadata": {},
   "outputs": [],
   "source": [
    "d = GD.driver(uri, auth=(user, psw))"
   ]
  },
  {
   "cell_type": "code",
   "execution_count": 15,
   "metadata": {},
   "outputs": [],
   "source": [
    "def get_pod(tx, cat):\n",
    "    pods = []\n",
    "    result = tx.run(\"MATCH (c:Category)<--(p) \"\n",
    "                   \"WHERE c.name = $cat \"\n",
    "                   \"RETURN p.id AS pod\", cat=cat)\n",
    "    for r in result:\n",
    "        pods.append(r['pod'])\n",
    "    return pods"
   ]
  },
  {
   "cell_type": "code",
   "execution_count": 16,
   "metadata": {},
   "outputs": [
    {
     "name": "stdout",
     "output_type": "stream",
     "text": [
      "e89a2cc24f1fa1138a56a532ce68ab4a\n",
      "f5fce0325ac6a4bf5e191d6608b95797\n",
      "f42e0606b820b99354ab58d423598493\n",
      "e8be02e7d7281ba3edb77da6a9fe95cd\n",
      "ebb2a803a79ea0b5abdefb92d1c816f5\n",
      "fc32aac8fe942ed89feae0e164185912\n",
      "c4eafea85540de95544b73777e19c696\n",
      "b9a5920d121ff4e239e6ca3b210e65e7\n",
      "a343c93505bffeaf20564bd2977b4743\n",
      "f1a7cabd6127108563a0e38ae044b88a\n",
      "fa7162cfb3963c4d51b67094a51740d6\n",
      "c684ea6c24f8a6a16c18edd37f2aea41\n",
      "fa3cac03e05c1e9ec792e95e4850d7ce\n"
     ]
    }
   ],
   "source": [
    "with d.session() as sess:\n",
    "    pod = sess.read_transaction(get_pod, \"news\")\n",
    "    for p in pod:\n",
    "        print(p)"
   ]
  },
  {
   "cell_type": "markdown",
   "metadata": {},
   "source": [
    "### Segunda Prueba\n",
    "Generar una clase"
   ]
  },
  {
   "cell_type": "code",
   "execution_count": 61,
   "metadata": {},
   "outputs": [],
   "source": [
    "class App:\n",
    "    def __init__(self, uri, auth):\n",
    "        self.driver = GD.driver(uri, auth = auth)\n",
    "        \n",
    "    def close(self):\n",
    "        self.driver.close()\n",
    "        \n",
    "    def get_cat_pod(self, user_id):\n",
    "        with self.driver.session() as sess:\n",
    "            result = sess.write_transaction(\n",
    "                self._get_cat_pod, user_id)\n",
    "            return result\n",
    "        \n",
    "    @staticmethod\n",
    "    def _get_cat_pod(tx, user_id):\n",
    "        query = (\n",
    "            \"MATCH (u:User)-[r]->(Podcast)-->(Category)<--(p:Podcast) \"\n",
    "            \"WHERE u.id = $user_id \"\n",
    "            \"RETURN r, p \"\n",
    "        )\n",
    "        result = tx.run(query, user_id=user_id)\n",
    "        return pd.DataFrame([{'cum_rating':record['r']['rating'], \n",
    "                              'podcast_id':record['p']['id']}\n",
    "                    for record in result])"
   ]
  },
  {
   "cell_type": "code",
   "execution_count": 62,
   "metadata": {},
   "outputs": [],
   "source": [
    "app = App(uri, (user, psw))"
   ]
  },
  {
   "cell_type": "code",
   "execution_count": 63,
   "metadata": {},
   "outputs": [
    {
     "data": {
      "text/html": [
       "<div>\n",
       "<style scoped>\n",
       "    .dataframe tbody tr th:only-of-type {\n",
       "        vertical-align: middle;\n",
       "    }\n",
       "\n",
       "    .dataframe tbody tr th {\n",
       "        vertical-align: top;\n",
       "    }\n",
       "\n",
       "    .dataframe thead th {\n",
       "        text-align: right;\n",
       "    }\n",
       "</style>\n",
       "<table border=\"1\" class=\"dataframe\">\n",
       "  <thead>\n",
       "    <tr style=\"text-align: right;\">\n",
       "      <th></th>\n",
       "      <th>cum_rating</th>\n",
       "      <th>podcast_id</th>\n",
       "    </tr>\n",
       "  </thead>\n",
       "  <tbody>\n",
       "    <tr>\n",
       "      <th>0</th>\n",
       "      <td>5</td>\n",
       "      <td>bead83f2330788f9e629cce951e1df99</td>\n",
       "    </tr>\n",
       "    <tr>\n",
       "      <th>1</th>\n",
       "      <td>5</td>\n",
       "      <td>cc451ec20dfe8f985c246cc71749917d</td>\n",
       "    </tr>\n",
       "    <tr>\n",
       "      <th>2</th>\n",
       "      <td>5</td>\n",
       "      <td>b16332f51b9746dc5a97c7ce37644fc6</td>\n",
       "    </tr>\n",
       "    <tr>\n",
       "      <th>3</th>\n",
       "      <td>5</td>\n",
       "      <td>c1adb6ca5ca39575420fda03c099b037</td>\n",
       "    </tr>\n",
       "    <tr>\n",
       "      <th>4</th>\n",
       "      <td>5</td>\n",
       "      <td>cc451ec20dfe8f985c246cc71749917d</td>\n",
       "    </tr>\n",
       "  </tbody>\n",
       "</table>\n",
       "</div>"
      ],
      "text/plain": [
       "  cum_rating                        podcast_id\n",
       "0          5  bead83f2330788f9e629cce951e1df99\n",
       "1          5  cc451ec20dfe8f985c246cc71749917d\n",
       "2          5  b16332f51b9746dc5a97c7ce37644fc6\n",
       "3          5  c1adb6ca5ca39575420fda03c099b037\n",
       "4          5  cc451ec20dfe8f985c246cc71749917d"
      ]
     },
     "execution_count": 63,
     "metadata": {},
     "output_type": "execute_result"
    }
   ],
   "source": [
    "df = app.get_cat_pod(\"F5B4FD0698E670E\")\n",
    "df.head()"
   ]
  },
  {
   "cell_type": "code",
   "execution_count": 64,
   "metadata": {},
   "outputs": [
    {
     "data": {
      "text/html": [
       "<div>\n",
       "<style scoped>\n",
       "    .dataframe tbody tr th:only-of-type {\n",
       "        vertical-align: middle;\n",
       "    }\n",
       "\n",
       "    .dataframe tbody tr th {\n",
       "        vertical-align: top;\n",
       "    }\n",
       "\n",
       "    .dataframe thead th {\n",
       "        text-align: right;\n",
       "    }\n",
       "</style>\n",
       "<table border=\"1\" class=\"dataframe\">\n",
       "  <thead>\n",
       "    <tr style=\"text-align: right;\">\n",
       "      <th></th>\n",
       "      <th>podcast_id</th>\n",
       "      <th>cum_rating</th>\n",
       "    </tr>\n",
       "  </thead>\n",
       "  <tbody>\n",
       "    <tr>\n",
       "      <th>0</th>\n",
       "      <td>a3a535f66c7e8004e7dc54c2b2829a9e</td>\n",
       "      <td>5</td>\n",
       "    </tr>\n",
       "    <tr>\n",
       "      <th>1</th>\n",
       "      <td>b16332f51b9746dc5a97c7ce37644fc6</td>\n",
       "      <td>55</td>\n",
       "    </tr>\n",
       "    <tr>\n",
       "      <th>2</th>\n",
       "      <td>bead83f2330788f9e629cce951e1df99</td>\n",
       "      <td>55</td>\n",
       "    </tr>\n",
       "    <tr>\n",
       "      <th>3</th>\n",
       "      <td>c1adb6ca5ca39575420fda03c099b037</td>\n",
       "      <td>55</td>\n",
       "    </tr>\n",
       "    <tr>\n",
       "      <th>4</th>\n",
       "      <td>c2adb71e6b51e1397b49e216e07f3cef</td>\n",
       "      <td>55</td>\n",
       "    </tr>\n",
       "    <tr>\n",
       "      <th>5</th>\n",
       "      <td>cc451ec20dfe8f985c246cc71749917d</td>\n",
       "      <td>555</td>\n",
       "    </tr>\n",
       "    <tr>\n",
       "      <th>6</th>\n",
       "      <td>ee41bdc529ac60b6cd3b9a50413b0dee</td>\n",
       "      <td>5</td>\n",
       "    </tr>\n",
       "    <tr>\n",
       "      <th>7</th>\n",
       "      <td>f335df99185d1401ada492230b42514a</td>\n",
       "      <td>5</td>\n",
       "    </tr>\n",
       "    <tr>\n",
       "      <th>8</th>\n",
       "      <td>fa3cac03e05c1e9ec792e95e4850d7ce</td>\n",
       "      <td>5</td>\n",
       "    </tr>\n",
       "  </tbody>\n",
       "</table>\n",
       "</div>"
      ],
      "text/plain": [
       "                         podcast_id cum_rating\n",
       "0  a3a535f66c7e8004e7dc54c2b2829a9e          5\n",
       "1  b16332f51b9746dc5a97c7ce37644fc6         55\n",
       "2  bead83f2330788f9e629cce951e1df99         55\n",
       "3  c1adb6ca5ca39575420fda03c099b037         55\n",
       "4  c2adb71e6b51e1397b49e216e07f3cef         55\n",
       "5  cc451ec20dfe8f985c246cc71749917d        555\n",
       "6  ee41bdc529ac60b6cd3b9a50413b0dee          5\n",
       "7  f335df99185d1401ada492230b42514a          5\n",
       "8  fa3cac03e05c1e9ec792e95e4850d7ce          5"
      ]
     },
     "execution_count": 64,
     "metadata": {},
     "output_type": "execute_result"
    }
   ],
   "source": [
    "df.groupby('podcast_id')['cum_rating'].sum().reset_index()"
   ]
  },
  {
   "cell_type": "markdown",
   "metadata": {},
   "source": [
    "## Generar atributos para entrenar modelo"
   ]
  },
  {
   "cell_type": "code",
   "execution_count": 6,
   "metadata": {},
   "outputs": [],
   "source": [
    "class GenAtr:\n",
    "    def __init__(self, uri, auth):\n",
    "        self.driver = GD.driver(uri, auth = auth)\n",
    "        \n",
    "    def close(self):\n",
    "        self.driver.close()\n",
    "        \n",
    "    \n",
    "    def gen_train_data(self, df):\n",
    "        c_names = ['cat_based', 'cat_cnt', 'user_based', 'user_cnt',\n",
    "                   'adamic_adar', 'resource_allocation', 'link_cnt']\n",
    "        df[c_names] = df.apply(self.gen_train_data_row, axis=1, result_type='expand')\n",
    "        df['cat_avg'] = df['cat_based'] / df['cat_cnt']\n",
    "        df['user_avg'] = df['user_based'] / df['user_cnt']\n",
    "        df['adar_avg'] = df['adamic_adar'] / df['link_cnt']\n",
    "        df['ra_avg'] = df['resource_allocation'] / df['link_cnt']\n",
    "        df.fillna(0)\n",
    "        return df \n",
    "    \n",
    "    def gen_train_data_row(self, row):\n",
    "        u_id, p_id, rtg = row['user_id'], row['podcast_id'], row['rating']\n",
    "        self.delete_rtg(u_id, p_id)\n",
    "        \n",
    "        result = self.get_cat_based(u_id, p_id)\n",
    "        result += self.get_user_based(u_id, p_id)\n",
    "        result += self.adamic_adar(u_id, p_id)\n",
    "        result += self.resource_allocation(u_id, p_id)\n",
    "        \n",
    "        self.create_rtg(u_id, p_id, rtg)\n",
    "        \n",
    "        return result\n",
    "        \n",
    "    def delete_rtg(self, user_id, podcast_id):\n",
    "        with self.driver.session() as sess:\n",
    "            sess.write_transaction(\n",
    "                self._delete_rtg, user_id, podcast_id)\n",
    "    \n",
    "    @staticmethod\n",
    "    def _delete_rtg(tx, user_id, podcast_id):\n",
    "        query = (\n",
    "            \"MATCH (u:User)-[r]->(p:Podcast) \"\n",
    "            \"WHERE u.id = $user_id AND p.id = $podcast_id \"\n",
    "            \"DELETE r\"\n",
    "        )\n",
    "        tx.run(query, user_id=user_id, podcast_id=podcast_id)\n",
    "\n",
    "        \n",
    "    def create_rtg(self, user_id, podcast_id, rating):\n",
    "        with self.driver.session() as sess:\n",
    "            sess.write_transaction(\n",
    "                self._create_rtg, user_id, podcast_id, rating)\n",
    "    \n",
    "    @staticmethod\n",
    "    def _create_rtg(tx, user_id, podcast_id, rating):\n",
    "        query = (\n",
    "            \"MATCH (u:User) MATCH (p:Podcast) \"\n",
    "            \"WHERE u.id = $user_id AND p.id = $podcast_id \"\n",
    "            \"MERGE (u)-[r:Rating{rating:toInteger($rating)}]->(p) \"\n",
    "        )\n",
    "        tx.run(query, user_id=user_id, podcast_id=podcast_id, rating=rating)\n",
    "        \n",
    "    def get_cat_based(self, user_id, podcast_id):\n",
    "        with self.driver.session() as sess:\n",
    "            result = sess.write_transaction(\n",
    "                self._get_cat_based, user_id, podcast_id)\n",
    "            return result\n",
    "        \n",
    "    @staticmethod\n",
    "    def _get_cat_based(tx, user_id, podcast_id):\n",
    "        query = (\n",
    "            \"MATCH (u:User)-[r]->(Podcast)-->(Category)<--(p:Podcast) \"\n",
    "            \"WHERE u.id = $user_id AND p.id = $podcast_id \"\n",
    "            \"RETURN r\"\n",
    "        )\n",
    "        result = tx.run(query, user_id=user_id, podcast_id=podcast_id)\n",
    "        total = 0\n",
    "        cnt = 0\n",
    "        for rec in result:\n",
    "            total += rec['r']['rating']\n",
    "            cnt += 1\n",
    "        return [total, cnt]\n",
    "    \n",
    "    def get_user_based(self, user_id, podcast_id):\n",
    "        with self.driver.session() as sess:\n",
    "            result = sess.write_transaction(\n",
    "                self._get_user_based, user_id, podcast_id)\n",
    "            return result\n",
    "        \n",
    "    @staticmethod\n",
    "    def _get_user_based(tx, user_id, podcast_id):\n",
    "        query = (\n",
    "            \"MATCH (u:User)-[r1]->(Podcast)<-[r2]->(User)-[r3]->(p:Podcast) \"\n",
    "            \"WHERE u.id = $user_id AND p.id = $podcast_id \"\n",
    "            \"RETURN r1.rating + r2.rating + r3.rating \"\n",
    "            \"AS total\"\n",
    "        )\n",
    "        result = tx.run(query, user_id=user_id, podcast_id=podcast_id)\n",
    "        total = 0\n",
    "        cnt = 0\n",
    "        for rec in result:\n",
    "            total += rec['total']\n",
    "            cnt += 1\n",
    "        return [total, cnt]\n",
    "    \n",
    "    def adamic_adar(self, user_id, podcast_id):\n",
    "        with self.driver.session() as sess:\n",
    "            result = sess.write_transaction(\n",
    "                self._adamic_adar, user_id, podcast_id)\n",
    "            return result\n",
    "        \n",
    "    @staticmethod\n",
    "    def _adamic_adar(tx, user_id, podcast_id):\n",
    "        query = (\n",
    "            \"MATCH (u:User)-[r]->(p1:Podcast) MATCH (p:Podcast)\"\n",
    "            \"WHERE u.id = $user_id AND p.id = $podcast_id \"\n",
    "            \"RETURN r.rating * gds.alpha.linkprediction.adamicAdar(p1, p) \"\n",
    "            \"AS score \"\n",
    "        )\n",
    "        result = tx.run(query, user_id=user_id, podcast_id=podcast_id)\n",
    "        total = 0\n",
    "        for rec in result:\n",
    "            total += rec['score']\n",
    "        return [total]\n",
    "    \n",
    "    def resource_allocation(self, user_id, podcast_id):\n",
    "        with self.driver.session() as sess:\n",
    "            result = sess.write_transaction(\n",
    "                self._resource_allocation, user_id, podcast_id)\n",
    "            return result\n",
    "        \n",
    "    @staticmethod\n",
    "    def _resource_allocation(tx, user_id, podcast_id):\n",
    "        query = (\n",
    "            \"MATCH (u:User)-[r]->(p1:Podcast) MATCH (p:Podcast)\"\n",
    "            \"WHERE u.id = $user_id AND p.id = $podcast_id \"\n",
    "            \"RETURN r.rating * gds.alpha.linkprediction.resourceAllocation(p1, p) \"\n",
    "            \"AS score \"\n",
    "        )\n",
    "        result = tx.run(query, user_id=user_id, podcast_id=podcast_id)\n",
    "        total = 0\n",
    "        cnt = 0\n",
    "        for rec in result:\n",
    "            total += rec['score']\n",
    "            cnt += 1\n",
    "        return [total, cnt]"
   ]
  },
  {
   "cell_type": "code",
   "execution_count": 7,
   "metadata": {},
   "outputs": [],
   "source": [
    "gen = GenAtr(uri, (user, psw))"
   ]
  },
  {
   "cell_type": "markdown",
   "metadata": {},
   "source": [
    "Generación de atributos"
   ]
  },
  {
   "cell_type": "code",
   "execution_count": 45,
   "metadata": {},
   "outputs": [
    {
     "data": {
      "text/html": [
       "<div>\n",
       "<style scoped>\n",
       "    .dataframe tbody tr th:only-of-type {\n",
       "        vertical-align: middle;\n",
       "    }\n",
       "\n",
       "    .dataframe tbody tr th {\n",
       "        vertical-align: top;\n",
       "    }\n",
       "\n",
       "    .dataframe thead th {\n",
       "        text-align: right;\n",
       "    }\n",
       "</style>\n",
       "<table border=\"1\" class=\"dataframe\">\n",
       "  <thead>\n",
       "    <tr style=\"text-align: right;\">\n",
       "      <th></th>\n",
       "      <th>podcast_id</th>\n",
       "      <th>rating</th>\n",
       "      <th>user_id</th>\n",
       "      <th>liked</th>\n",
       "    </tr>\n",
       "  </thead>\n",
       "  <tbody>\n",
       "    <tr>\n",
       "      <th>0</th>\n",
       "      <td>d34629baca14d87860276b12a6cb7a3b</td>\n",
       "      <td>1</td>\n",
       "      <td>949410AE9D72DA4</td>\n",
       "      <td>0</td>\n",
       "    </tr>\n",
       "    <tr>\n",
       "      <th>1</th>\n",
       "      <td>fa3cac03e05c1e9ec792e95e4850d7ce</td>\n",
       "      <td>5</td>\n",
       "      <td>86533A28CA5B4C4</td>\n",
       "      <td>1</td>\n",
       "    </tr>\n",
       "    <tr>\n",
       "      <th>2</th>\n",
       "      <td>a3a535f66c7e8004e7dc54c2b2829a9e</td>\n",
       "      <td>5</td>\n",
       "      <td>6C561484AED5C02</td>\n",
       "      <td>1</td>\n",
       "    </tr>\n",
       "    <tr>\n",
       "      <th>3</th>\n",
       "      <td>ab238917116872cfcbc205e0c97f891a</td>\n",
       "      <td>5</td>\n",
       "      <td>31E49853DC8D7FE</td>\n",
       "      <td>1</td>\n",
       "    </tr>\n",
       "    <tr>\n",
       "      <th>4</th>\n",
       "      <td>ab238917116872cfcbc205e0c97f891a</td>\n",
       "      <td>5</td>\n",
       "      <td>6D1D40D537B071F</td>\n",
       "      <td>1</td>\n",
       "    </tr>\n",
       "  </tbody>\n",
       "</table>\n",
       "</div>"
      ],
      "text/plain": [
       "                         podcast_id  rating          user_id  liked\n",
       "0  d34629baca14d87860276b12a6cb7a3b       1  949410AE9D72DA4      0\n",
       "1  fa3cac03e05c1e9ec792e95e4850d7ce       5  86533A28CA5B4C4      1\n",
       "2  a3a535f66c7e8004e7dc54c2b2829a9e       5  6C561484AED5C02      1\n",
       "3  ab238917116872cfcbc205e0c97f891a       5  31E49853DC8D7FE      1\n",
       "4  ab238917116872cfcbc205e0c97f891a       5  6D1D40D537B071F      1"
      ]
     },
     "execution_count": 45,
     "metadata": {},
     "output_type": "execute_result"
    }
   ],
   "source": [
    "rtg = pd.read_csv('data/ratings_sample.csv')\n",
    "rtg.head()"
   ]
  },
  {
   "cell_type": "code",
   "execution_count": 46,
   "metadata": {},
   "outputs": [
    {
     "data": {
      "text/html": [
       "<div>\n",
       "<style scoped>\n",
       "    .dataframe tbody tr th:only-of-type {\n",
       "        vertical-align: middle;\n",
       "    }\n",
       "\n",
       "    .dataframe tbody tr th {\n",
       "        vertical-align: top;\n",
       "    }\n",
       "\n",
       "    .dataframe thead th {\n",
       "        text-align: right;\n",
       "    }\n",
       "</style>\n",
       "<table border=\"1\" class=\"dataframe\">\n",
       "  <thead>\n",
       "    <tr style=\"text-align: right;\">\n",
       "      <th></th>\n",
       "      <th>rating</th>\n",
       "      <th>liked</th>\n",
       "      <th>cat_based</th>\n",
       "      <th>cat_cnt</th>\n",
       "      <th>user_based</th>\n",
       "      <th>user_cnt</th>\n",
       "      <th>adamic_adar</th>\n",
       "      <th>resource_allocation</th>\n",
       "      <th>link_cnt</th>\n",
       "      <th>cat_avg</th>\n",
       "      <th>user_avg</th>\n",
       "      <th>adar_avg</th>\n",
       "      <th>ra_avg</th>\n",
       "    </tr>\n",
       "  </thead>\n",
       "  <tbody>\n",
       "    <tr>\n",
       "      <th>count</th>\n",
       "      <td>1009.000000</td>\n",
       "      <td>1009.000000</td>\n",
       "      <td>1009.000000</td>\n",
       "      <td>1009.000000</td>\n",
       "      <td>1009.000000</td>\n",
       "      <td>1009.000000</td>\n",
       "      <td>1009.000000</td>\n",
       "      <td>1009.000000</td>\n",
       "      <td>1009.000000</td>\n",
       "      <td>849.000000</td>\n",
       "      <td>605.000000</td>\n",
       "      <td>931.000000</td>\n",
       "      <td>931.000000</td>\n",
       "    </tr>\n",
       "    <tr>\n",
       "      <th>mean</th>\n",
       "      <td>4.105055</td>\n",
       "      <td>0.792864</td>\n",
       "      <td>20.423191</td>\n",
       "      <td>4.945491</td>\n",
       "      <td>44.405352</td>\n",
       "      <td>3.414272</td>\n",
       "      <td>14.863189</td>\n",
       "      <td>3.454354</td>\n",
       "      <td>7.516353</td>\n",
       "      <td>4.076443</td>\n",
       "      <td>12.669937</td>\n",
       "      <td>4.349148</td>\n",
       "      <td>1.254921</td>\n",
       "    </tr>\n",
       "    <tr>\n",
       "      <th>std</th>\n",
       "      <td>1.575754</td>\n",
       "      <td>0.405455</td>\n",
       "      <td>22.622030</td>\n",
       "      <td>4.877060</td>\n",
       "      <td>69.925536</td>\n",
       "      <td>5.032714</td>\n",
       "      <td>18.996704</td>\n",
       "      <td>5.665649</td>\n",
       "      <td>8.057579</td>\n",
       "      <td>1.360740</td>\n",
       "      <td>2.294079</td>\n",
       "      <td>8.736101</td>\n",
       "      <td>2.966137</td>\n",
       "    </tr>\n",
       "    <tr>\n",
       "      <th>min</th>\n",
       "      <td>1.000000</td>\n",
       "      <td>0.000000</td>\n",
       "      <td>0.000000</td>\n",
       "      <td>0.000000</td>\n",
       "      <td>0.000000</td>\n",
       "      <td>0.000000</td>\n",
       "      <td>0.000000</td>\n",
       "      <td>0.000000</td>\n",
       "      <td>0.000000</td>\n",
       "      <td>1.000000</td>\n",
       "      <td>7.000000</td>\n",
       "      <td>0.000000</td>\n",
       "      <td>0.000000</td>\n",
       "    </tr>\n",
       "    <tr>\n",
       "      <th>25%</th>\n",
       "      <td>4.000000</td>\n",
       "      <td>1.000000</td>\n",
       "      <td>5.000000</td>\n",
       "      <td>2.000000</td>\n",
       "      <td>0.000000</td>\n",
       "      <td>0.000000</td>\n",
       "      <td>3.199659</td>\n",
       "      <td>0.337838</td>\n",
       "      <td>2.000000</td>\n",
       "      <td>3.750000</td>\n",
       "      <td>11.000000</td>\n",
       "      <td>0.640169</td>\n",
       "      <td>0.083170</td>\n",
       "    </tr>\n",
       "    <tr>\n",
       "      <th>50%</th>\n",
       "      <td>5.000000</td>\n",
       "      <td>1.000000</td>\n",
       "      <td>14.000000</td>\n",
       "      <td>4.000000</td>\n",
       "      <td>13.000000</td>\n",
       "      <td>1.000000</td>\n",
       "      <td>8.926191</td>\n",
       "      <td>1.446237</td>\n",
       "      <td>5.000000</td>\n",
       "      <td>5.000000</td>\n",
       "      <td>13.000000</td>\n",
       "      <td>1.531307</td>\n",
       "      <td>0.264165</td>\n",
       "    </tr>\n",
       "    <tr>\n",
       "      <th>75%</th>\n",
       "      <td>5.000000</td>\n",
       "      <td>1.000000</td>\n",
       "      <td>26.000000</td>\n",
       "      <td>7.000000</td>\n",
       "      <td>67.000000</td>\n",
       "      <td>5.000000</td>\n",
       "      <td>18.350998</td>\n",
       "      <td>4.340749</td>\n",
       "      <td>11.000000</td>\n",
       "      <td>5.000000</td>\n",
       "      <td>15.000000</td>\n",
       "      <td>2.947580</td>\n",
       "      <td>0.683758</td>\n",
       "    </tr>\n",
       "    <tr>\n",
       "      <th>max</th>\n",
       "      <td>5.000000</td>\n",
       "      <td>1.000000</td>\n",
       "      <td>150.000000</td>\n",
       "      <td>30.000000</td>\n",
       "      <td>675.000000</td>\n",
       "      <td>45.000000</td>\n",
       "      <td>181.371997</td>\n",
       "      <td>54.386752</td>\n",
       "      <td>40.000000</td>\n",
       "      <td>5.000000</td>\n",
       "      <td>15.000000</td>\n",
       "      <td>62.866498</td>\n",
       "      <td>21.230926</td>\n",
       "    </tr>\n",
       "  </tbody>\n",
       "</table>\n",
       "</div>"
      ],
      "text/plain": [
       "            rating        liked    cat_based      cat_cnt   user_based  \\\n",
       "count  1009.000000  1009.000000  1009.000000  1009.000000  1009.000000   \n",
       "mean      4.105055     0.792864    20.423191     4.945491    44.405352   \n",
       "std       1.575754     0.405455    22.622030     4.877060    69.925536   \n",
       "min       1.000000     0.000000     0.000000     0.000000     0.000000   \n",
       "25%       4.000000     1.000000     5.000000     2.000000     0.000000   \n",
       "50%       5.000000     1.000000    14.000000     4.000000    13.000000   \n",
       "75%       5.000000     1.000000    26.000000     7.000000    67.000000   \n",
       "max       5.000000     1.000000   150.000000    30.000000   675.000000   \n",
       "\n",
       "          user_cnt  adamic_adar  resource_allocation     link_cnt     cat_avg  \\\n",
       "count  1009.000000  1009.000000          1009.000000  1009.000000  849.000000   \n",
       "mean      3.414272    14.863189             3.454354     7.516353    4.076443   \n",
       "std       5.032714    18.996704             5.665649     8.057579    1.360740   \n",
       "min       0.000000     0.000000             0.000000     0.000000    1.000000   \n",
       "25%       0.000000     3.199659             0.337838     2.000000    3.750000   \n",
       "50%       1.000000     8.926191             1.446237     5.000000    5.000000   \n",
       "75%       5.000000    18.350998             4.340749    11.000000    5.000000   \n",
       "max      45.000000   181.371997            54.386752    40.000000    5.000000   \n",
       "\n",
       "         user_avg    adar_avg      ra_avg  \n",
       "count  605.000000  931.000000  931.000000  \n",
       "mean    12.669937    4.349148    1.254921  \n",
       "std      2.294079    8.736101    2.966137  \n",
       "min      7.000000    0.000000    0.000000  \n",
       "25%     11.000000    0.640169    0.083170  \n",
       "50%     13.000000    1.531307    0.264165  \n",
       "75%     15.000000    2.947580    0.683758  \n",
       "max     15.000000   62.866498   21.230926  "
      ]
     },
     "execution_count": 46,
     "metadata": {},
     "output_type": "execute_result"
    }
   ],
   "source": [
    "data = gen.gen_train_data(rtg.copy())\n",
    "data.describe()"
   ]
  },
  {
   "cell_type": "code",
   "execution_count": 48,
   "metadata": {},
   "outputs": [
    {
     "data": {
      "text/plain": [
       "(706, 151, 152)"
      ]
     },
     "execution_count": 48,
     "metadata": {},
     "output_type": "execute_result"
    }
   ],
   "source": [
    "from sklearn.model_selection import train_test_split\n",
    "c_names = ['cat_based', 'cat_cnt', 'user_based', 'user_cnt',\n",
    "                   'adamic_adar', 'resource_allocation', 'link_cnt']\n",
    "x = data[c_names]\n",
    "y = data['liked']\n",
    "x_train, x2, y_train, y2 = train_test_split(x, y, test_size=0.3)\n",
    "x_val, x_test, y_val, y_test = train_test_split(x2, y2, test_size=0.5)\n",
    "len(y_train), len(y_val), len(y_test)"
   ]
  },
  {
   "cell_type": "code",
   "execution_count": 49,
   "metadata": {},
   "outputs": [
    {
     "data": {
      "text/plain": [
       "(0.7932011331444759, 0.7814569536423841, 0.8026315789473685)"
      ]
     },
     "execution_count": 49,
     "metadata": {},
     "output_type": "execute_result"
    }
   ],
   "source": [
    "y_train.mean(), y_val.mean(), y_test.mean()"
   ]
  },
  {
   "cell_type": "code",
   "execution_count": 50,
   "metadata": {},
   "outputs": [
    {
     "data": {
      "text/plain": [
       "LogisticRegression()"
      ]
     },
     "execution_count": 50,
     "metadata": {},
     "output_type": "execute_result"
    }
   ],
   "source": [
    "from sklearn.linear_model import LogisticRegression\n",
    "lr = LogisticRegression()\n",
    "lr.fit(x_train, y_train)"
   ]
  },
  {
   "cell_type": "code",
   "execution_count": 51,
   "metadata": {},
   "outputs": [
    {
     "data": {
      "text/plain": [
       "array([1, 1, 1, 1, 1, 1, 1, 0, 1, 1, 1, 0, 1, 1, 1, 1, 1, 1, 1, 1, 1, 1,\n",
       "       0, 1, 1, 1, 1, 1, 0, 0, 0, 1, 1, 1, 1, 0, 1, 1, 1, 1, 1, 1, 0, 1,\n",
       "       1, 1, 1, 1, 1, 1, 1, 1, 0, 0, 1, 1, 1, 0, 1, 1, 1, 1, 1, 1, 1, 1,\n",
       "       1, 1, 1, 1, 1, 1, 1, 1, 1, 1, 1, 1, 1, 1, 1, 1, 1, 1, 1, 1, 1, 1,\n",
       "       0, 1, 1, 1, 1, 0, 1, 1, 1, 1, 1, 1, 1, 1, 1, 1, 1, 1, 1, 1, 1, 0,\n",
       "       1, 1, 1, 1, 1, 1, 1, 1, 1, 1, 1, 1, 1, 1, 1, 1, 1, 1, 1, 1, 1, 1,\n",
       "       1, 1, 1, 1, 1, 0, 1, 0, 1, 1, 1, 1, 1, 1, 1, 1, 1, 1, 1])"
      ]
     },
     "execution_count": 51,
     "metadata": {},
     "output_type": "execute_result"
    }
   ],
   "source": [
    "y_pred = lr.predict(x_val)\n",
    "y_pred"
   ]
  },
  {
   "cell_type": "code",
   "execution_count": 53,
   "metadata": {},
   "outputs": [
    {
     "data": {
      "text/plain": [
       "y_val     0.781457\n",
       "y_pred    0.894040\n",
       "right     0.821192\n",
       "dtype: float64"
      ]
     },
     "execution_count": 53,
     "metadata": {},
     "output_type": "execute_result"
    }
   ],
   "source": [
    "df = pd.DataFrame({'y_val':y_val.values, 'y_pred':y_pred})\n",
    "df['right'] = df['y_val'] == df['y_pred']\n",
    "df.sum() / len(df)"
   ]
  },
  {
   "cell_type": "code",
   "execution_count": 54,
   "metadata": {},
   "outputs": [
    {
     "data": {
      "text/plain": [
       "y_test    0.802632\n",
       "y_pred    0.888158\n",
       "right     0.822368\n",
       "dtype: float64"
      ]
     },
     "execution_count": 54,
     "metadata": {},
     "output_type": "execute_result"
    }
   ],
   "source": [
    "pred = lr.predict(x_test)\n",
    "df = pd.DataFrame({'y_test':y_test.values, 'y_pred':pred})\n",
    "df['right'] = df['y_test'] == df['y_pred']\n",
    "df.sum() / len(df)"
   ]
  },
  {
   "cell_type": "code",
   "execution_count": 56,
   "metadata": {},
   "outputs": [],
   "source": [
    "y_train.to_csv('data/y_train.csv', index=False)\n",
    "x_train.to_csv('data/x_train.csv', index=False)\n",
    "y_val.to_csv('data/y_val.csv', index=False)\n",
    "x_val.to_csv('data/x_val.csv', index=False)\n",
    "y_test.to_csv('data/y_te.csv', index=False)"
   ]
  },
  {
   "cell_type": "code",
   "execution_count": null,
   "metadata": {},
   "outputs": [],
   "source": []
  }
 ],
 "metadata": {
  "kernelspec": {
   "display_name": "Python 3",
   "language": "python",
   "name": "python3"
  },
  "language_info": {
   "codemirror_mode": {
    "name": "ipython",
    "version": 3
   },
   "file_extension": ".py",
   "mimetype": "text/x-python",
   "name": "python",
   "nbconvert_exporter": "python",
   "pygments_lexer": "ipython3",
   "version": "3.8.3"
  }
 },
 "nbformat": 4,
 "nbformat_minor": 4
}
