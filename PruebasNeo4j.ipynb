{
 "cells": [
  {
   "cell_type": "markdown",
   "metadata": {},
   "source": [
    "# Pruebas Neo4j"
   ]
  },
  {
   "cell_type": "code",
   "execution_count": 1,
   "metadata": {},
   "outputs": [],
   "source": [
    "from neo4j import GraphDatabase as GD\n",
    "import pandas as pd\n",
    "import numpy as np"
   ]
  },
  {
   "cell_type": "code",
   "execution_count": 2,
   "metadata": {},
   "outputs": [],
   "source": [
    "uri = 'bolt://localhost:7687'\n",
    "user = 'neo4j'\n",
    "psw = 'password'"
   ]
  },
  {
   "cell_type": "markdown",
   "metadata": {},
   "source": [
    "### Primera prueba"
   ]
  },
  {
   "cell_type": "code",
   "execution_count": 14,
   "metadata": {},
   "outputs": [],
   "source": [
    "d = GD.driver(uri, auth=(user, psw))"
   ]
  },
  {
   "cell_type": "code",
   "execution_count": 15,
   "metadata": {},
   "outputs": [],
   "source": [
    "def get_pod(tx, cat):\n",
    "    pods = []\n",
    "    result = tx.run(\"MATCH (c:Category)<--(p) \"\n",
    "                   \"WHERE c.name = $cat \"\n",
    "                   \"RETURN p.id AS pod\", cat=cat)\n",
    "    for r in result:\n",
    "        pods.append(r['pod'])\n",
    "    return pods"
   ]
  },
  {
   "cell_type": "code",
   "execution_count": 16,
   "metadata": {},
   "outputs": [
    {
     "name": "stdout",
     "output_type": "stream",
     "text": [
      "e89a2cc24f1fa1138a56a532ce68ab4a\n",
      "f5fce0325ac6a4bf5e191d6608b95797\n",
      "f42e0606b820b99354ab58d423598493\n",
      "e8be02e7d7281ba3edb77da6a9fe95cd\n",
      "ebb2a803a79ea0b5abdefb92d1c816f5\n",
      "fc32aac8fe942ed89feae0e164185912\n",
      "c4eafea85540de95544b73777e19c696\n",
      "b9a5920d121ff4e239e6ca3b210e65e7\n",
      "a343c93505bffeaf20564bd2977b4743\n",
      "f1a7cabd6127108563a0e38ae044b88a\n",
      "fa7162cfb3963c4d51b67094a51740d6\n",
      "c684ea6c24f8a6a16c18edd37f2aea41\n",
      "fa3cac03e05c1e9ec792e95e4850d7ce\n"
     ]
    }
   ],
   "source": [
    "with d.session() as sess:\n",
    "    pod = sess.read_transaction(get_pod, \"news\")\n",
    "    for p in pod:\n",
    "        print(p)"
   ]
  },
  {
   "cell_type": "markdown",
   "metadata": {},
   "source": [
    "### Segunda Prueba\n",
    "Generar una clase"
   ]
  },
  {
   "cell_type": "code",
   "execution_count": 61,
   "metadata": {},
   "outputs": [],
   "source": [
    "class App:\n",
    "    def __init__(self, uri, auth):\n",
    "        self.driver = GD.driver(uri, auth = auth)\n",
    "        \n",
    "    def close(self):\n",
    "        self.driver.close()\n",
    "        \n",
    "    def get_cat_pod(self, user_id):\n",
    "        with self.driver.session() as sess:\n",
    "            result = sess.write_transaction(\n",
    "                self._get_cat_pod, user_id)\n",
    "            return result\n",
    "        \n",
    "    @staticmethod\n",
    "    def _get_cat_pod(tx, user_id):\n",
    "        query = (\n",
    "            \"MATCH (u:User)-[r]->(Podcast)-->(Category)<--(p:Podcast) \"\n",
    "            \"WHERE u.id = $user_id \"\n",
    "            \"RETURN r, p \"\n",
    "        )\n",
    "        result = tx.run(query, user_id=user_id)\n",
    "        return pd.DataFrame([{'cum_rating':record['r']['rating'], \n",
    "                              'podcast_id':record['p']['id']}\n",
    "                    for record in result])"
   ]
  },
  {
   "cell_type": "code",
   "execution_count": 62,
   "metadata": {},
   "outputs": [],
   "source": [
    "app = App(uri, (user, psw))"
   ]
  },
  {
   "cell_type": "code",
   "execution_count": 63,
   "metadata": {},
   "outputs": [
    {
     "data": {
      "text/html": [
       "<div>\n",
       "<style scoped>\n",
       "    .dataframe tbody tr th:only-of-type {\n",
       "        vertical-align: middle;\n",
       "    }\n",
       "\n",
       "    .dataframe tbody tr th {\n",
       "        vertical-align: top;\n",
       "    }\n",
       "\n",
       "    .dataframe thead th {\n",
       "        text-align: right;\n",
       "    }\n",
       "</style>\n",
       "<table border=\"1\" class=\"dataframe\">\n",
       "  <thead>\n",
       "    <tr style=\"text-align: right;\">\n",
       "      <th></th>\n",
       "      <th>cum_rating</th>\n",
       "      <th>podcast_id</th>\n",
       "    </tr>\n",
       "  </thead>\n",
       "  <tbody>\n",
       "    <tr>\n",
       "      <th>0</th>\n",
       "      <td>5</td>\n",
       "      <td>bead83f2330788f9e629cce951e1df99</td>\n",
       "    </tr>\n",
       "    <tr>\n",
       "      <th>1</th>\n",
       "      <td>5</td>\n",
       "      <td>cc451ec20dfe8f985c246cc71749917d</td>\n",
       "    </tr>\n",
       "    <tr>\n",
       "      <th>2</th>\n",
       "      <td>5</td>\n",
       "      <td>b16332f51b9746dc5a97c7ce37644fc6</td>\n",
       "    </tr>\n",
       "    <tr>\n",
       "      <th>3</th>\n",
       "      <td>5</td>\n",
       "      <td>c1adb6ca5ca39575420fda03c099b037</td>\n",
       "    </tr>\n",
       "    <tr>\n",
       "      <th>4</th>\n",
       "      <td>5</td>\n",
       "      <td>cc451ec20dfe8f985c246cc71749917d</td>\n",
       "    </tr>\n",
       "  </tbody>\n",
       "</table>\n",
       "</div>"
      ],
      "text/plain": [
       "  cum_rating                        podcast_id\n",
       "0          5  bead83f2330788f9e629cce951e1df99\n",
       "1          5  cc451ec20dfe8f985c246cc71749917d\n",
       "2          5  b16332f51b9746dc5a97c7ce37644fc6\n",
       "3          5  c1adb6ca5ca39575420fda03c099b037\n",
       "4          5  cc451ec20dfe8f985c246cc71749917d"
      ]
     },
     "execution_count": 63,
     "metadata": {},
     "output_type": "execute_result"
    }
   ],
   "source": [
    "df = app.get_cat_pod(\"F5B4FD0698E670E\")\n",
    "df.head()"
   ]
  },
  {
   "cell_type": "code",
   "execution_count": 64,
   "metadata": {},
   "outputs": [
    {
     "data": {
      "text/html": [
       "<div>\n",
       "<style scoped>\n",
       "    .dataframe tbody tr th:only-of-type {\n",
       "        vertical-align: middle;\n",
       "    }\n",
       "\n",
       "    .dataframe tbody tr th {\n",
       "        vertical-align: top;\n",
       "    }\n",
       "\n",
       "    .dataframe thead th {\n",
       "        text-align: right;\n",
       "    }\n",
       "</style>\n",
       "<table border=\"1\" class=\"dataframe\">\n",
       "  <thead>\n",
       "    <tr style=\"text-align: right;\">\n",
       "      <th></th>\n",
       "      <th>podcast_id</th>\n",
       "      <th>cum_rating</th>\n",
       "    </tr>\n",
       "  </thead>\n",
       "  <tbody>\n",
       "    <tr>\n",
       "      <th>0</th>\n",
       "      <td>a3a535f66c7e8004e7dc54c2b2829a9e</td>\n",
       "      <td>5</td>\n",
       "    </tr>\n",
       "    <tr>\n",
       "      <th>1</th>\n",
       "      <td>b16332f51b9746dc5a97c7ce37644fc6</td>\n",
       "      <td>55</td>\n",
       "    </tr>\n",
       "    <tr>\n",
       "      <th>2</th>\n",
       "      <td>bead83f2330788f9e629cce951e1df99</td>\n",
       "      <td>55</td>\n",
       "    </tr>\n",
       "    <tr>\n",
       "      <th>3</th>\n",
       "      <td>c1adb6ca5ca39575420fda03c099b037</td>\n",
       "      <td>55</td>\n",
       "    </tr>\n",
       "    <tr>\n",
       "      <th>4</th>\n",
       "      <td>c2adb71e6b51e1397b49e216e07f3cef</td>\n",
       "      <td>55</td>\n",
       "    </tr>\n",
       "    <tr>\n",
       "      <th>5</th>\n",
       "      <td>cc451ec20dfe8f985c246cc71749917d</td>\n",
       "      <td>555</td>\n",
       "    </tr>\n",
       "    <tr>\n",
       "      <th>6</th>\n",
       "      <td>ee41bdc529ac60b6cd3b9a50413b0dee</td>\n",
       "      <td>5</td>\n",
       "    </tr>\n",
       "    <tr>\n",
       "      <th>7</th>\n",
       "      <td>f335df99185d1401ada492230b42514a</td>\n",
       "      <td>5</td>\n",
       "    </tr>\n",
       "    <tr>\n",
       "      <th>8</th>\n",
       "      <td>fa3cac03e05c1e9ec792e95e4850d7ce</td>\n",
       "      <td>5</td>\n",
       "    </tr>\n",
       "  </tbody>\n",
       "</table>\n",
       "</div>"
      ],
      "text/plain": [
       "                         podcast_id cum_rating\n",
       "0  a3a535f66c7e8004e7dc54c2b2829a9e          5\n",
       "1  b16332f51b9746dc5a97c7ce37644fc6         55\n",
       "2  bead83f2330788f9e629cce951e1df99         55\n",
       "3  c1adb6ca5ca39575420fda03c099b037         55\n",
       "4  c2adb71e6b51e1397b49e216e07f3cef         55\n",
       "5  cc451ec20dfe8f985c246cc71749917d        555\n",
       "6  ee41bdc529ac60b6cd3b9a50413b0dee          5\n",
       "7  f335df99185d1401ada492230b42514a          5\n",
       "8  fa3cac03e05c1e9ec792e95e4850d7ce          5"
      ]
     },
     "execution_count": 64,
     "metadata": {},
     "output_type": "execute_result"
    }
   ],
   "source": [
    "df.groupby('podcast_id')['cum_rating'].sum().reset_index()"
   ]
  },
  {
   "cell_type": "markdown",
   "metadata": {},
   "source": [
    "## Generar atributos para entrenar modelo"
   ]
  },
  {
   "cell_type": "code",
   "execution_count": 69,
   "metadata": {},
   "outputs": [],
   "source": [
    "class GenAtr:\n",
    "    def __init__(self, uri, auth):\n",
    "        self.driver = GD.driver(uri, auth = auth)\n",
    "        \n",
    "    def close(self):\n",
    "        self.driver.close()\n",
    "        \n",
    "    def get_cat_based(self, user_id, podcast_id):\n",
    "        with self.driver.session() as sess:\n",
    "            result = sess.write_transaction(\n",
    "                self._get_cat_based, user_id, podcast_id)\n",
    "            return result\n",
    "        \n",
    "    @staticmethod\n",
    "    def _get_cat_based(tx, user_id, podcast_id):\n",
    "        query = (\n",
    "            \"MATCH (u:User)-[r]->(Podcast)-->(Category)<--(p:Podcast) \"\n",
    "            \"WHERE u.id = $user_id AND p.id = $podcast_id \"\n",
    "            \"RETURN r\"\n",
    "        )\n",
    "        result = tx.run(query, user_id=user_id, podcast_id=podcast_id)\n",
    "        total = 0\n",
    "        cnt = 0\n",
    "        for rec in result:\n",
    "            total += rec['r']['rating']\n",
    "            cnt += 1\n",
    "        return total, cnt\n",
    "    \n",
    "    def get_user_based(self, user_id, podcast_id):\n",
    "        with self.driver.session() as sess:\n",
    "            result = sess.write_transaction(\n",
    "                self._get_user_based, user_id, podcast_id)\n",
    "            return result\n",
    "        \n",
    "    @staticmethod\n",
    "    def _get_user_based(tx, user_id, podcast_id):\n",
    "        query = (\n",
    "            \"MATCH (u:User)-[r1]->(Podcast)<-[r2]->(User)-[r3]->(p:Podcast) \"\n",
    "            \"WHERE u.id = $user_id AND p.id = $podcast_id \"\n",
    "            \"RETURN r1.rating + r2.rating + r3.rating \"\n",
    "            \"AS total\"\n",
    "        )\n",
    "        result = tx.run(query, user_id=user_id, podcast_id=podcast_id)\n",
    "        total = 0\n",
    "        cnt = 0\n",
    "        for rec in result:\n",
    "            total += rec['total']\n",
    "            cnt += 1\n",
    "        return total, cnt\n",
    "    "
   ]
  },
  {
   "cell_type": "code",
   "execution_count": 70,
   "metadata": {},
   "outputs": [],
   "source": [
    "gen = GenAtr(uri, (user, psw))"
   ]
  },
  {
   "cell_type": "markdown",
   "metadata": {},
   "source": [
    "Generación de atributos"
   ]
  },
  {
   "cell_type": "code",
   "execution_count": 77,
   "metadata": {},
   "outputs": [
    {
     "data": {
      "text/plain": [
       "(10, 2)"
      ]
     },
     "execution_count": 77,
     "metadata": {},
     "output_type": "execute_result"
    }
   ],
   "source": [
    "gen.get_cat_based('96A3F0358E7808D', 'd34629baca14d87860276b12a6cb7a3b')"
   ]
  },
  {
   "cell_type": "code",
   "execution_count": 78,
   "metadata": {},
   "outputs": [
    {
     "data": {
      "text/plain": [
       "(23, 2)"
      ]
     },
     "execution_count": 78,
     "metadata": {},
     "output_type": "execute_result"
    }
   ],
   "source": [
    "gen.get_user_based('96A3F0358E7808D', 'd34629baca14d87860276b12a6cb7a3b')"
   ]
  },
  {
   "cell_type": "code",
   "execution_count": null,
   "metadata": {},
   "outputs": [],
   "source": []
  }
 ],
 "metadata": {
  "kernelspec": {
   "display_name": "Python 3",
   "language": "python",
   "name": "python3"
  },
  "language_info": {
   "codemirror_mode": {
    "name": "ipython",
    "version": 3
   },
   "file_extension": ".py",
   "mimetype": "text/x-python",
   "name": "python",
   "nbconvert_exporter": "python",
   "pygments_lexer": "ipython3",
   "version": "3.8.3"
  }
 },
 "nbformat": 4,
 "nbformat_minor": 4
}
